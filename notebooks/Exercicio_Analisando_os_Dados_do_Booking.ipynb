{
  "cells": [
    {
      "cell_type": "markdown",
      "metadata": {
        "id": "kLI0gJtzDGuQ"
      },
      "source": [
        "# Análise dos Dados do Booking - *Portugal*\n",
        "\n",
        "- Baixe o arquivo no link: [Clique aqui para baixar o arquivo](https://drive.google.com/file/d/1ApHNm3gI7O7j7Kby7EU9xZo7W1E8xB6t/view?usp=drive_link)\n",
        "\n",
        "\n",
        "\n",
        "# A [Booking.com](https://www.booking.com/) é uma das **maiores plataformas de reservas de hospedagem do mundo**. E o mais impressionante? Ela **não é dona de nenhum hotel**!\n",
        "\n",
        "Conectando viajantes a uma vasta rede de hotéis, pousadas, apartamentos e outras opções de hospedagem, a Booking.com revolucionou a forma como as pessoas planejam suas viagens, oferecendo **milhões de propriedades em todo o mundo**.\n",
        "\n",
        "Fundada em 1996, a empresa já ajudou **milhões de viajantes** a encontrar a hospedagem perfeita, desbancando métodos tradicionais de reserva e se tornando referência no setor de turismo.\n",
        "\n",
        "A Booking.com também disponibiliza dados e ferramentas para desenvolvedores através da [Booking.com API](https://developers.booking.com/), permitindo a integração de suas soluções de hospedagem em outros aplicativos e plataformas.\n",
        "\n",
        "<center><img alt=\"Explorando Booking.com\" width=\"15%\" src=\"data:image/png;base64,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\"></center>\n",
        "\n",
        "**Neste *notebook*, vamos explorar dados de hospedagens em Lisboa e descobrir insights valiosos sobre tendências de viagem, preços e disponibilidade.**"
      ]
    },
    {
      "cell_type": "markdown",
      "metadata": {},
      "source": [
        "**Dicionário das variáveis**\n",
        "\n",
        "* **id** : identificação única para o anúncio\n",
        "* **name** : nome do anúncio\n",
        "* **host_id** : identificador único para o proprietário do imóvel\n",
        "* **host_name** : nome do proprietário\n",
        "* **neighbourhood_group** :município ao qual o imóvel pertence, geolocalizado pelas coordenadas de latitude e longitude\n",
        "* **neighbourhood** : bairro da propriedade\n",
        "* **latitude** : coordenada geográfica de latitude da propriedade\n",
        "* **longitude** : coordenada geográfica de longitude da propriedade\n",
        "* **room_type** : tipo de quarto oferecido para locação\n",
        "* **price** : preço da diária do aluguel\n",
        "* **minimum_nights** : quantidade mínima de noites para alugar o imóvel\n",
        "* **number_of_reviews** : quantidade de avaliações que o imóvel tem\n",
        "* **last_review** : data da última avaliação\n",
        "* **reviews_per_month** : quantidade de avaliações por mês\n",
        "* **calculated_host_listings_count** : quantidade de imóveis do mesmo proprietário na mesma cidade/região\n",
        "* **availability_365** : número de dias disponíveis para locação nos próximos 365 dias\n",
        "* **number_of_reviews_ltm** : quantidade de avaliações nos últimos 12 meses\n",
        "* **license** : número de registro do imóvel"
      ]
    },
    {
      "cell_type": "markdown",
      "metadata": {
        "id": "0zxQHhIUDF_2"
      },
      "source": [
        "## Obtenção dos Dados\n"
      ]
    },
    {
      "cell_type": "code",
      "execution_count": 1,
      "metadata": {
        "id": "Vhp2wMPgJ6zX"
      },
      "outputs": [],
      "source": [
        "# importar os pacotes necessarios\n",
        "import pandas as pd\n",
        "import numpy as np\n",
        "import matplotlib.pyplot as plt\n",
        "import seaborn as sns"
      ]
    },
    {
      "cell_type": "code",
      "execution_count": 2,
      "metadata": {
        "id": "LjgoCqzBcq7D"
      },
      "outputs": [],
      "source": [
        "sns.set_theme(style=\"whitegrid\", palette='rocket')\n",
        "#sns.color_palette(\"flare\", as_cmap=True)"
      ]
    },
    {
      "cell_type": "code",
      "execution_count": null,
      "metadata": {
        "colab": {
          "base_uri": "https://localhost:8080/"
        },
        "id": "FyiZZfw3GQs1",
        "outputId": "362131d5-f227-47d1-a6aa-20cb0d14e08e"
      },
      "outputs": [
        {
          "name": "stdout",
          "output_type": "stream",
          "text": [
            "Mounted at /content/drive\n"
          ]
        }
      ],
      "source": [
        "from google.colab import drive\n",
        "drive.mount('/content/drive')\n",
        "\n",
        "path = \"/content/drive/MyDrive/folder\""
      ]
    },
    {
      "cell_type": "markdown",
      "metadata": {
        "id": "qb5By2nIMS6m"
      },
      "source": [
        "## Análise dos Dados\n"
      ]
    },
    {
      "cell_type": "markdown",
      "metadata": {
        "id": "6-B_qtEaYEd-"
      },
      "source": [
        "### **Q1. Quantos atributos (variáveis) e quantas entradas o nosso conjunto de dados possui? Quais os tipos das variáveis?**"
      ]
    },
    {
      "cell_type": "markdown",
      "metadata": {
        "id": "yz1urSUGW9iE"
      },
      "source": [
        "### **Q2. Qual a porcentagem de valores ausentes no *dataset*?**"
      ]
    },
    {
      "cell_type": "markdown",
      "metadata": {
        "id": "iHXvvHIxaoNc"
      },
      "source": [
        "### **Q3. Qual o tipo de distribuição das variáveis?**"
      ]
    },
    {
      "cell_type": "markdown",
      "metadata": {
        "id": "7x4aw1j5wNmn"
      },
      "source": [
        "### **Q4. Qual a média dos preços de aluguel?**"
      ]
    },
    {
      "cell_type": "markdown",
      "metadata": {
        "id": "7b6RMWpuHKN-"
      },
      "source": [
        "### **Q5. Qual o tipo de imóvel mais disponível no Booking?**"
      ]
    },
    {
      "cell_type": "markdown",
      "metadata": {
        "id": "MFa5NbnLJMcd"
      },
      "source": [
        "### **Q6. Qual a localidade mais cara?**\n",
        "\n"
      ]
    },
    {
      "cell_type": "markdown",
      "metadata": {
        "id": "vTneAMRUYvr1"
      },
      "source": [
        "### **Q7. Qual é a média do mínimo de noites para aluguel (minimum_nights)?**"
      ]
    }
  ],
  "metadata": {
    "colab": {
      "provenance": []
    },
    "kernelspec": {
      "display_name": "Python 3 (ipykernel)",
      "language": "python",
      "name": "python3"
    },
    "language_info": {
      "codemirror_mode": {
        "name": "ipython",
        "version": 3
      },
      "file_extension": ".py",
      "mimetype": "text/x-python",
      "name": "python",
      "nbconvert_exporter": "python",
      "pygments_lexer": "ipython3",
      "version": "3.9.7"
    }
  },
  "nbformat": 4,
  "nbformat_minor": 0
}
