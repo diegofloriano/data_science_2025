{
  "cells": [
    {
      "cell_type": "markdown",
      "metadata": {
        "id": "kLI0gJtzDGuQ"
      },
      "source": [
        "# Análise dos Dados do Booking - *Portugal*\n",
        "\n",
        "- Baixe o arquivo no link: [Clique aqui para baixar o arquivo](https://drive.google.com/file/d/1ApHNm3gI7O7j7Kby7EU9xZo7W1E8xB6t/view?usp=drive_link)\n",
        "\n",
        "\n",
        "\n",
        "# A [Booking.com](https://www.booking.com/) é uma das **maiores plataformas de reservas de hospedagem do mundo**. E o mais impressionante? Ela **não é dona de nenhum hotel**!\n",
        "\n",
        "Conectando viajantes a uma vasta rede de hotéis, pousadas, apartamentos e outras opções de hospedagem, a Booking.com revolucionou a forma como as pessoas planejam suas viagens, oferecendo **milhões de propriedades em todo o mundo**.\n",
        "\n",
        "Fundada em 1996, a empresa já ajudou **milhões de viajantes** a encontrar a hospedagem perfeita, desbancando métodos tradicionais de reserva e se tornando referência no setor de turismo.\n",
        "\n",
        "A Booking.com também disponibiliza dados e ferramentas para desenvolvedores através da [Booking.com API](https://developers.booking.com/), permitindo a integração de suas soluções de hospedagem em outros aplicativos e plataformas.\n",
        "\n",
        "<center><img alt=\"Explorando Booking.com\" width=\"15%\" src=\"data:image/png;base64,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\"></center>\n",
        "\n",
        "**Neste *notebook*, vamos explorar dados de hospedagens em Lisboa e descobrir insights valiosos sobre tendências de viagem, preços e disponibilidade.**"
      ]
    },
    {
      "cell_type": "markdown",
      "metadata": {
        "id": "Rbmgkl1G89iC"
      },
      "source": [
        "**Dicionário das variáveis**\n",
        "\n",
        "* **id** : identificação única para o anúncio\n",
        "* **name** : nome do anúncio\n",
        "* **host_id** : identificador único para o proprietário do imóvel\n",
        "* **host_name** : nome do proprietário\n",
        "* **neighbourhood_group** :município ao qual o imóvel pertence, geolocalizado pelas coordenadas de latitude e longitude\n",
        "* **neighbourhood** : bairro da propriedade\n",
        "* **latitude** : coordenada geográfica de latitude da propriedade\n",
        "* **longitude** : coordenada geográfica de longitude da propriedade\n",
        "* **room_type** : tipo de quarto oferecido para locação\n",
        "* **price** : preço da diária do aluguel\n",
        "* **minimum_nights** : quantidade mínima de noites para alugar o imóvel\n",
        "* **number_of_reviews** : quantidade de avaliações que o imóvel tem\n",
        "* **last_review** : data da última avaliação\n",
        "* **reviews_per_month** : quantidade de avaliações por mês\n",
        "* **calculated_host_listings_count** : quantidade de imóveis do mesmo proprietário na mesma cidade/região\n",
        "* **availability_365** : número de dias disponíveis para locação nos próximos 365 dias\n",
        "* **number_of_reviews_ltm** : quantidade de avaliações nos últimos 12 meses\n",
        "* **license** : número de registro do imóvel"
      ]
    },
    {
      "cell_type": "markdown",
      "metadata": {
        "id": "0zxQHhIUDF_2"
      },
      "source": [
        "## Obtenção dos Dados\n"
      ]
    },
    {
      "cell_type": "code",
      "execution_count": 1,
      "metadata": {
        "id": "Vhp2wMPgJ6zX"
      },
      "outputs": [],
      "source": [
        "# importar os pacotes necessarios\n",
        "import pandas as pd\n",
        "import numpy as np\n",
        "import matplotlib.pyplot as plt\n",
        "import seaborn as sns"
      ]
    },
    {
      "cell_type": "code",
      "execution_count": 2,
      "metadata": {
        "id": "LjgoCqzBcq7D"
      },
      "outputs": [],
      "source": [
        "sns.set_theme(style=\"whitegrid\", palette='rocket')\n",
        "#sns.color_palette(\"flare\", as_cmap=True)"
      ]
    },
    {
      "cell_type": "code",
      "execution_count": 3,
      "metadata": {
        "colab": {
          "base_uri": "https://localhost:8080/"
        },
        "id": "FyiZZfw3GQs1",
        "outputId": "58bd1b33-dd87-4b9f-dbe7-e8e0049fad86"
      },
      "outputs": [
        {
          "output_type": "stream",
          "name": "stdout",
          "text": [
            "Mounted at /content/drive\n"
          ]
        }
      ],
      "source": [
        "from google.colab import drive\n",
        "drive.mount('/content/drive')\n",
        "\n",
        "path = \"/content/drive/MyDrive/DATA_SCIENCE\""
      ]
    },
    {
      "cell_type": "markdown",
      "metadata": {
        "id": "qb5By2nIMS6m"
      },
      "source": [
        "## Análise dos Dados\n"
      ]
    },
    {
      "cell_type": "markdown",
      "metadata": {
        "id": "6-B_qtEaYEd-"
      },
      "source": [
        "### **Q1. Quantos atributos (variáveis) e quantas entradas o nosso conjunto de dados possui? Quais os tipos das variáveis?**"
      ]
    },
    {
      "cell_type": "code",
      "source": [
        "# Leitura do arquivo\n",
        "df = pd.read_csv(path + '/booking_portugal.csv', sep=',')\n",
        "\n",
        "# Mostrando as 10 primeiras linhas\n",
        "df.head(10)\n",
        ""
      ],
      "metadata": {
        "id": "pgVyEQ8o9ale",
        "outputId": "7ed0fabd-45a8-4349-bc13-b6fd915f053d",
        "colab": {
          "base_uri": "https://localhost:8080/",
          "height": 782
        }
      },
      "execution_count": 11,
      "outputs": [
        {
          "output_type": "execute_result",
          "data": {
            "text/plain": [
              "                   id                                               name  \\\n",
              "0            50633912                             Dawn by Tejo apartment   \n",
              "1            26228173         Double or single room in Cacilhas, Almada.   \n",
              "2  626948758397201007      Private Bedroom | Short Board | AtelierSurf29   \n",
              "3            50739035  Comfortable, Fully Equipped and Home-office Ready   \n",
              "4            27597765  Cacilhas AMAZING view of Lisbon+ beaches Caparica   \n",
              "5            39947844  Double Room Yellow Private WC - Estrela do Almada   \n",
              "6            29006708        Tagus South Bank  Flat in Cacilhas - Almada   \n",
              "7            34728174                                          Casa Rosa   \n",
              "8            46017059                             Nice Room-Almada Velha   \n",
              "9            33866777                  Casa do Alfaiate ® Home&Breakfast   \n",
              "\n",
              "     host_id         host_name neighbourhood_group      neighbourhood  \\\n",
              "0  162544509              Rita              Lisboa        Misericrdia   \n",
              "1  190814174      Expandavenue              Lisboa        Misericrdia   \n",
              "2  401590803             Alain              Lisboa            Estrela   \n",
              "3   46289990            Daniel              Lisboa            Estrela   \n",
              "4    8595303              Gina              Lisboa            Estrela   \n",
              "5    8141673               Ana              Lisboa            Estrela   \n",
              "6  218624588             Vitor              Lisboa            Estrela   \n",
              "7  161548729  Alain Et Rosália             Lourinh  Lourinh e Atalaia   \n",
              "8  271978183           Dariane              Lisboa            Estrela   \n",
              "9   27100448     Edgar E Simão              Lisboa            Estrela   \n",
              "\n",
              "   latitude  longitude        room_type  price  minimum_nights  \\\n",
              "0  38.68451   -9.14721  Entire home/apt    140               6   \n",
              "1  38.68663   -9.14882     Private room     25               3   \n",
              "2  38.67714   -9.15887     Private room     34               3   \n",
              "3  38.67610   -9.16045  Entire home/apt     65               2   \n",
              "4  38.68435   -9.15006  Entire home/apt     82               3   \n",
              "5  38.68240   -9.15682     Private room     35               2   \n",
              "6  38.68508   -9.14995  Entire home/apt     51               3   \n",
              "7  39.30797   -9.33758     Private room     50               2   \n",
              "8  38.67997   -9.16258     Private room     23               2   \n",
              "9  38.68294   -9.16056  Entire home/apt     64               2   \n",
              "\n",
              "   number_of_reviews last_review  reviews_per_month  \\\n",
              "0                  9  2022-05-12               0.94   \n",
              "1                 52  2022-05-31               1.08   \n",
              "2                  4  2022-06-08               4.00   \n",
              "3                 15  2022-04-30               1.60   \n",
              "4                  4  2018-10-01               0.09   \n",
              "5                 18  2022-05-26               0.65   \n",
              "6                 14  2021-09-05               0.33   \n",
              "7                  8  2021-09-06               0.23   \n",
              "8                 21  2022-06-09               1.20   \n",
              "9                 73  2022-05-21               1.94   \n",
              "\n",
              "   calculated_host_listings_count  availability_365  number_of_reviews_ltm  \\\n",
              "0                               2                48                      9   \n",
              "1                              10               169                      9   \n",
              "2                               4               339                      4   \n",
              "3                               1                54                     15   \n",
              "4                               3               306                      0   \n",
              "5                               2                25                     12   \n",
              "6                               1               158                      4   \n",
              "7                               1               347                      2   \n",
              "8                               2               140                     18   \n",
              "9                               1               132                     25   \n",
              "\n",
              "       license  \n",
              "0    117958/AL  \n",
              "1  nº 73403/AL  \n",
              "2    125224/AL  \n",
              "3    118900/AL  \n",
              "4     80019/AL  \n",
              "5    102730/AL  \n",
              "6      81544AL  \n",
              "7       Exempt  \n",
              "8       Exempt  \n",
              "9     95605/AL  "
            ],
            "text/html": [
              "\n",
              "  <div id=\"df-c7b7e58a-9a3d-4182-9dff-971ae1c5f013\" class=\"colab-df-container\">\n",
              "    <div>\n",
              "<style scoped>\n",
              "    .dataframe tbody tr th:only-of-type {\n",
              "        vertical-align: middle;\n",
              "    }\n",
              "\n",
              "    .dataframe tbody tr th {\n",
              "        vertical-align: top;\n",
              "    }\n",
              "\n",
              "    .dataframe thead th {\n",
              "        text-align: right;\n",
              "    }\n",
              "</style>\n",
              "<table border=\"1\" class=\"dataframe\">\n",
              "  <thead>\n",
              "    <tr style=\"text-align: right;\">\n",
              "      <th></th>\n",
              "      <th>id</th>\n",
              "      <th>name</th>\n",
              "      <th>host_id</th>\n",
              "      <th>host_name</th>\n",
              "      <th>neighbourhood_group</th>\n",
              "      <th>neighbourhood</th>\n",
              "      <th>latitude</th>\n",
              "      <th>longitude</th>\n",
              "      <th>room_type</th>\n",
              "      <th>price</th>\n",
              "      <th>minimum_nights</th>\n",
              "      <th>number_of_reviews</th>\n",
              "      <th>last_review</th>\n",
              "      <th>reviews_per_month</th>\n",
              "      <th>calculated_host_listings_count</th>\n",
              "      <th>availability_365</th>\n",
              "      <th>number_of_reviews_ltm</th>\n",
              "      <th>license</th>\n",
              "    </tr>\n",
              "  </thead>\n",
              "  <tbody>\n",
              "    <tr>\n",
              "      <th>0</th>\n",
              "      <td>50633912</td>\n",
              "      <td>Dawn by Tejo apartment</td>\n",
              "      <td>162544509</td>\n",
              "      <td>Rita</td>\n",
              "      <td>Lisboa</td>\n",
              "      <td>Misericrdia</td>\n",
              "      <td>38.68451</td>\n",
              "      <td>-9.14721</td>\n",
              "      <td>Entire home/apt</td>\n",
              "      <td>140</td>\n",
              "      <td>6</td>\n",
              "      <td>9</td>\n",
              "      <td>2022-05-12</td>\n",
              "      <td>0.94</td>\n",
              "      <td>2</td>\n",
              "      <td>48</td>\n",
              "      <td>9</td>\n",
              "      <td>117958/AL</td>\n",
              "    </tr>\n",
              "    <tr>\n",
              "      <th>1</th>\n",
              "      <td>26228173</td>\n",
              "      <td>Double or single room in Cacilhas, Almada.</td>\n",
              "      <td>190814174</td>\n",
              "      <td>Expandavenue</td>\n",
              "      <td>Lisboa</td>\n",
              "      <td>Misericrdia</td>\n",
              "      <td>38.68663</td>\n",
              "      <td>-9.14882</td>\n",
              "      <td>Private room</td>\n",
              "      <td>25</td>\n",
              "      <td>3</td>\n",
              "      <td>52</td>\n",
              "      <td>2022-05-31</td>\n",
              "      <td>1.08</td>\n",
              "      <td>10</td>\n",
              "      <td>169</td>\n",
              "      <td>9</td>\n",
              "      <td>nº 73403/AL</td>\n",
              "    </tr>\n",
              "    <tr>\n",
              "      <th>2</th>\n",
              "      <td>626948758397201007</td>\n",
              "      <td>Private Bedroom | Short Board | AtelierSurf29</td>\n",
              "      <td>401590803</td>\n",
              "      <td>Alain</td>\n",
              "      <td>Lisboa</td>\n",
              "      <td>Estrela</td>\n",
              "      <td>38.67714</td>\n",
              "      <td>-9.15887</td>\n",
              "      <td>Private room</td>\n",
              "      <td>34</td>\n",
              "      <td>3</td>\n",
              "      <td>4</td>\n",
              "      <td>2022-06-08</td>\n",
              "      <td>4.00</td>\n",
              "      <td>4</td>\n",
              "      <td>339</td>\n",
              "      <td>4</td>\n",
              "      <td>125224/AL</td>\n",
              "    </tr>\n",
              "    <tr>\n",
              "      <th>3</th>\n",
              "      <td>50739035</td>\n",
              "      <td>Comfortable, Fully Equipped and Home-office Ready</td>\n",
              "      <td>46289990</td>\n",
              "      <td>Daniel</td>\n",
              "      <td>Lisboa</td>\n",
              "      <td>Estrela</td>\n",
              "      <td>38.67610</td>\n",
              "      <td>-9.16045</td>\n",
              "      <td>Entire home/apt</td>\n",
              "      <td>65</td>\n",
              "      <td>2</td>\n",
              "      <td>15</td>\n",
              "      <td>2022-04-30</td>\n",
              "      <td>1.60</td>\n",
              "      <td>1</td>\n",
              "      <td>54</td>\n",
              "      <td>15</td>\n",
              "      <td>118900/AL</td>\n",
              "    </tr>\n",
              "    <tr>\n",
              "      <th>4</th>\n",
              "      <td>27597765</td>\n",
              "      <td>Cacilhas AMAZING view of Lisbon+ beaches Caparica</td>\n",
              "      <td>8595303</td>\n",
              "      <td>Gina</td>\n",
              "      <td>Lisboa</td>\n",
              "      <td>Estrela</td>\n",
              "      <td>38.68435</td>\n",
              "      <td>-9.15006</td>\n",
              "      <td>Entire home/apt</td>\n",
              "      <td>82</td>\n",
              "      <td>3</td>\n",
              "      <td>4</td>\n",
              "      <td>2018-10-01</td>\n",
              "      <td>0.09</td>\n",
              "      <td>3</td>\n",
              "      <td>306</td>\n",
              "      <td>0</td>\n",
              "      <td>80019/AL</td>\n",
              "    </tr>\n",
              "    <tr>\n",
              "      <th>5</th>\n",
              "      <td>39947844</td>\n",
              "      <td>Double Room Yellow Private WC - Estrela do Almada</td>\n",
              "      <td>8141673</td>\n",
              "      <td>Ana</td>\n",
              "      <td>Lisboa</td>\n",
              "      <td>Estrela</td>\n",
              "      <td>38.68240</td>\n",
              "      <td>-9.15682</td>\n",
              "      <td>Private room</td>\n",
              "      <td>35</td>\n",
              "      <td>2</td>\n",
              "      <td>18</td>\n",
              "      <td>2022-05-26</td>\n",
              "      <td>0.65</td>\n",
              "      <td>2</td>\n",
              "      <td>25</td>\n",
              "      <td>12</td>\n",
              "      <td>102730/AL</td>\n",
              "    </tr>\n",
              "    <tr>\n",
              "      <th>6</th>\n",
              "      <td>29006708</td>\n",
              "      <td>Tagus South Bank  Flat in Cacilhas - Almada</td>\n",
              "      <td>218624588</td>\n",
              "      <td>Vitor</td>\n",
              "      <td>Lisboa</td>\n",
              "      <td>Estrela</td>\n",
              "      <td>38.68508</td>\n",
              "      <td>-9.14995</td>\n",
              "      <td>Entire home/apt</td>\n",
              "      <td>51</td>\n",
              "      <td>3</td>\n",
              "      <td>14</td>\n",
              "      <td>2021-09-05</td>\n",
              "      <td>0.33</td>\n",
              "      <td>1</td>\n",
              "      <td>158</td>\n",
              "      <td>4</td>\n",
              "      <td>81544AL</td>\n",
              "    </tr>\n",
              "    <tr>\n",
              "      <th>7</th>\n",
              "      <td>34728174</td>\n",
              "      <td>Casa Rosa</td>\n",
              "      <td>161548729</td>\n",
              "      <td>Alain Et Rosália</td>\n",
              "      <td>Lourinh</td>\n",
              "      <td>Lourinh e Atalaia</td>\n",
              "      <td>39.30797</td>\n",
              "      <td>-9.33758</td>\n",
              "      <td>Private room</td>\n",
              "      <td>50</td>\n",
              "      <td>2</td>\n",
              "      <td>8</td>\n",
              "      <td>2021-09-06</td>\n",
              "      <td>0.23</td>\n",
              "      <td>1</td>\n",
              "      <td>347</td>\n",
              "      <td>2</td>\n",
              "      <td>Exempt</td>\n",
              "    </tr>\n",
              "    <tr>\n",
              "      <th>8</th>\n",
              "      <td>46017059</td>\n",
              "      <td>Nice Room-Almada Velha</td>\n",
              "      <td>271978183</td>\n",
              "      <td>Dariane</td>\n",
              "      <td>Lisboa</td>\n",
              "      <td>Estrela</td>\n",
              "      <td>38.67997</td>\n",
              "      <td>-9.16258</td>\n",
              "      <td>Private room</td>\n",
              "      <td>23</td>\n",
              "      <td>2</td>\n",
              "      <td>21</td>\n",
              "      <td>2022-06-09</td>\n",
              "      <td>1.20</td>\n",
              "      <td>2</td>\n",
              "      <td>140</td>\n",
              "      <td>18</td>\n",
              "      <td>Exempt</td>\n",
              "    </tr>\n",
              "    <tr>\n",
              "      <th>9</th>\n",
              "      <td>33866777</td>\n",
              "      <td>Casa do Alfaiate ® Home&amp;Breakfast</td>\n",
              "      <td>27100448</td>\n",
              "      <td>Edgar E Simão</td>\n",
              "      <td>Lisboa</td>\n",
              "      <td>Estrela</td>\n",
              "      <td>38.68294</td>\n",
              "      <td>-9.16056</td>\n",
              "      <td>Entire home/apt</td>\n",
              "      <td>64</td>\n",
              "      <td>2</td>\n",
              "      <td>73</td>\n",
              "      <td>2022-05-21</td>\n",
              "      <td>1.94</td>\n",
              "      <td>1</td>\n",
              "      <td>132</td>\n",
              "      <td>25</td>\n",
              "      <td>95605/AL</td>\n",
              "    </tr>\n",
              "  </tbody>\n",
              "</table>\n",
              "</div>\n",
              "    <div class=\"colab-df-buttons\">\n",
              "\n",
              "  <div class=\"colab-df-container\">\n",
              "    <button class=\"colab-df-convert\" onclick=\"convertToInteractive('df-c7b7e58a-9a3d-4182-9dff-971ae1c5f013')\"\n",
              "            title=\"Convert this dataframe to an interactive table.\"\n",
              "            style=\"display:none;\">\n",
              "\n",
              "  <svg xmlns=\"http://www.w3.org/2000/svg\" height=\"24px\" viewBox=\"0 -960 960 960\">\n",
              "    <path d=\"M120-120v-720h720v720H120Zm60-500h600v-160H180v160Zm220 220h160v-160H400v160Zm0 220h160v-160H400v160ZM180-400h160v-160H180v160Zm440 0h160v-160H620v160ZM180-180h160v-160H180v160Zm440 0h160v-160H620v160Z\"/>\n",
              "  </svg>\n",
              "    </button>\n",
              "\n",
              "  <style>\n",
              "    .colab-df-container {\n",
              "      display:flex;\n",
              "      gap: 12px;\n",
              "    }\n",
              "\n",
              "    .colab-df-convert {\n",
              "      background-color: #E8F0FE;\n",
              "      border: none;\n",
              "      border-radius: 50%;\n",
              "      cursor: pointer;\n",
              "      display: none;\n",
              "      fill: #1967D2;\n",
              "      height: 32px;\n",
              "      padding: 0 0 0 0;\n",
              "      width: 32px;\n",
              "    }\n",
              "\n",
              "    .colab-df-convert:hover {\n",
              "      background-color: #E2EBFA;\n",
              "      box-shadow: 0px 1px 2px rgba(60, 64, 67, 0.3), 0px 1px 3px 1px rgba(60, 64, 67, 0.15);\n",
              "      fill: #174EA6;\n",
              "    }\n",
              "\n",
              "    .colab-df-buttons div {\n",
              "      margin-bottom: 4px;\n",
              "    }\n",
              "\n",
              "    [theme=dark] .colab-df-convert {\n",
              "      background-color: #3B4455;\n",
              "      fill: #D2E3FC;\n",
              "    }\n",
              "\n",
              "    [theme=dark] .colab-df-convert:hover {\n",
              "      background-color: #434B5C;\n",
              "      box-shadow: 0px 1px 3px 1px rgba(0, 0, 0, 0.15);\n",
              "      filter: drop-shadow(0px 1px 2px rgba(0, 0, 0, 0.3));\n",
              "      fill: #FFFFFF;\n",
              "    }\n",
              "  </style>\n",
              "\n",
              "    <script>\n",
              "      const buttonEl =\n",
              "        document.querySelector('#df-c7b7e58a-9a3d-4182-9dff-971ae1c5f013 button.colab-df-convert');\n",
              "      buttonEl.style.display =\n",
              "        google.colab.kernel.accessAllowed ? 'block' : 'none';\n",
              "\n",
              "      async function convertToInteractive(key) {\n",
              "        const element = document.querySelector('#df-c7b7e58a-9a3d-4182-9dff-971ae1c5f013');\n",
              "        const dataTable =\n",
              "          await google.colab.kernel.invokeFunction('convertToInteractive',\n",
              "                                                    [key], {});\n",
              "        if (!dataTable) return;\n",
              "\n",
              "        const docLinkHtml = 'Like what you see? Visit the ' +\n",
              "          '<a target=\"_blank\" href=https://colab.research.google.com/notebooks/data_table.ipynb>data table notebook</a>'\n",
              "          + ' to learn more about interactive tables.';\n",
              "        element.innerHTML = '';\n",
              "        dataTable['output_type'] = 'display_data';\n",
              "        await google.colab.output.renderOutput(dataTable, element);\n",
              "        const docLink = document.createElement('div');\n",
              "        docLink.innerHTML = docLinkHtml;\n",
              "        element.appendChild(docLink);\n",
              "      }\n",
              "    </script>\n",
              "  </div>\n",
              "\n",
              "\n",
              "    <div id=\"df-c2d91f19-3d54-446c-b573-713684eba003\">\n",
              "      <button class=\"colab-df-quickchart\" onclick=\"quickchart('df-c2d91f19-3d54-446c-b573-713684eba003')\"\n",
              "                title=\"Suggest charts\"\n",
              "                style=\"display:none;\">\n",
              "\n",
              "<svg xmlns=\"http://www.w3.org/2000/svg\" height=\"24px\"viewBox=\"0 0 24 24\"\n",
              "     width=\"24px\">\n",
              "    <g>\n",
              "        <path d=\"M19 3H5c-1.1 0-2 .9-2 2v14c0 1.1.9 2 2 2h14c1.1 0 2-.9 2-2V5c0-1.1-.9-2-2-2zM9 17H7v-7h2v7zm4 0h-2V7h2v10zm4 0h-2v-4h2v4z\"/>\n",
              "    </g>\n",
              "</svg>\n",
              "      </button>\n",
              "\n",
              "<style>\n",
              "  .colab-df-quickchart {\n",
              "      --bg-color: #E8F0FE;\n",
              "      --fill-color: #1967D2;\n",
              "      --hover-bg-color: #E2EBFA;\n",
              "      --hover-fill-color: #174EA6;\n",
              "      --disabled-fill-color: #AAA;\n",
              "      --disabled-bg-color: #DDD;\n",
              "  }\n",
              "\n",
              "  [theme=dark] .colab-df-quickchart {\n",
              "      --bg-color: #3B4455;\n",
              "      --fill-color: #D2E3FC;\n",
              "      --hover-bg-color: #434B5C;\n",
              "      --hover-fill-color: #FFFFFF;\n",
              "      --disabled-bg-color: #3B4455;\n",
              "      --disabled-fill-color: #666;\n",
              "  }\n",
              "\n",
              "  .colab-df-quickchart {\n",
              "    background-color: var(--bg-color);\n",
              "    border: none;\n",
              "    border-radius: 50%;\n",
              "    cursor: pointer;\n",
              "    display: none;\n",
              "    fill: var(--fill-color);\n",
              "    height: 32px;\n",
              "    padding: 0;\n",
              "    width: 32px;\n",
              "  }\n",
              "\n",
              "  .colab-df-quickchart:hover {\n",
              "    background-color: var(--hover-bg-color);\n",
              "    box-shadow: 0 1px 2px rgba(60, 64, 67, 0.3), 0 1px 3px 1px rgba(60, 64, 67, 0.15);\n",
              "    fill: var(--button-hover-fill-color);\n",
              "  }\n",
              "\n",
              "  .colab-df-quickchart-complete:disabled,\n",
              "  .colab-df-quickchart-complete:disabled:hover {\n",
              "    background-color: var(--disabled-bg-color);\n",
              "    fill: var(--disabled-fill-color);\n",
              "    box-shadow: none;\n",
              "  }\n",
              "\n",
              "  .colab-df-spinner {\n",
              "    border: 2px solid var(--fill-color);\n",
              "    border-color: transparent;\n",
              "    border-bottom-color: var(--fill-color);\n",
              "    animation:\n",
              "      spin 1s steps(1) infinite;\n",
              "  }\n",
              "\n",
              "  @keyframes spin {\n",
              "    0% {\n",
              "      border-color: transparent;\n",
              "      border-bottom-color: var(--fill-color);\n",
              "      border-left-color: var(--fill-color);\n",
              "    }\n",
              "    20% {\n",
              "      border-color: transparent;\n",
              "      border-left-color: var(--fill-color);\n",
              "      border-top-color: var(--fill-color);\n",
              "    }\n",
              "    30% {\n",
              "      border-color: transparent;\n",
              "      border-left-color: var(--fill-color);\n",
              "      border-top-color: var(--fill-color);\n",
              "      border-right-color: var(--fill-color);\n",
              "    }\n",
              "    40% {\n",
              "      border-color: transparent;\n",
              "      border-right-color: var(--fill-color);\n",
              "      border-top-color: var(--fill-color);\n",
              "    }\n",
              "    60% {\n",
              "      border-color: transparent;\n",
              "      border-right-color: var(--fill-color);\n",
              "    }\n",
              "    80% {\n",
              "      border-color: transparent;\n",
              "      border-right-color: var(--fill-color);\n",
              "      border-bottom-color: var(--fill-color);\n",
              "    }\n",
              "    90% {\n",
              "      border-color: transparent;\n",
              "      border-bottom-color: var(--fill-color);\n",
              "    }\n",
              "  }\n",
              "</style>\n",
              "\n",
              "      <script>\n",
              "        async function quickchart(key) {\n",
              "          const quickchartButtonEl =\n",
              "            document.querySelector('#' + key + ' button');\n",
              "          quickchartButtonEl.disabled = true;  // To prevent multiple clicks.\n",
              "          quickchartButtonEl.classList.add('colab-df-spinner');\n",
              "          try {\n",
              "            const charts = await google.colab.kernel.invokeFunction(\n",
              "                'suggestCharts', [key], {});\n",
              "          } catch (error) {\n",
              "            console.error('Error during call to suggestCharts:', error);\n",
              "          }\n",
              "          quickchartButtonEl.classList.remove('colab-df-spinner');\n",
              "          quickchartButtonEl.classList.add('colab-df-quickchart-complete');\n",
              "        }\n",
              "        (() => {\n",
              "          let quickchartButtonEl =\n",
              "            document.querySelector('#df-c2d91f19-3d54-446c-b573-713684eba003 button');\n",
              "          quickchartButtonEl.style.display =\n",
              "            google.colab.kernel.accessAllowed ? 'block' : 'none';\n",
              "        })();\n",
              "      </script>\n",
              "    </div>\n",
              "\n",
              "    </div>\n",
              "  </div>\n"
            ],
            "application/vnd.google.colaboratory.intrinsic+json": {
              "type": "dataframe",
              "variable_name": "df",
              "summary": "{\n  \"name\": \"df\",\n  \"rows\": 18929,\n  \"fields\": [\n    {\n      \"column\": \"id\",\n      \"properties\": {\n        \"dtype\": \"number\",\n        \"std\": 179958031850461120,\n        \"min\": 6499,\n        \"max\": 645451777201530988,\n        \"num_unique_values\": 18929,\n        \"samples\": [\n          5147002,\n          43979205,\n          35189595\n        ],\n        \"semantic_type\": \"\",\n        \"description\": \"\"\n      }\n    },\n    {\n      \"column\": \"name\",\n      \"properties\": {\n        \"dtype\": \"string\",\n        \"num_unique_values\": 18607,\n        \"samples\": [\n          \"Villa Marqu\\u00eas  Historic House near Tagus river\",\n          \"Ericeira Ribamar Yellow House,near surf spots\",\n          \"Bairro Alto II @ center of Lisbon\"\n        ],\n        \"semantic_type\": \"\",\n        \"description\": \"\"\n      }\n    },\n    {\n      \"column\": \"host_id\",\n      \"properties\": {\n        \"dtype\": \"number\",\n        \"std\": 134066114,\n        \"min\": 14455,\n        \"max\": 463235875,\n        \"num_unique_values\": 7898,\n        \"samples\": [\n          461654201,\n          7584438,\n          99979024\n        ],\n        \"semantic_type\": \"\",\n        \"description\": \"\"\n      }\n    },\n    {\n      \"column\": \"host_name\",\n      \"properties\": {\n        \"dtype\": \"category\",\n        \"num_unique_values\": 3079,\n        \"samples\": [\n          \"Ramiro\",\n          \"Pedro David\",\n          \"Bhupendra\"\n        ],\n        \"semantic_type\": \"\",\n        \"description\": \"\"\n      }\n    },\n    {\n      \"column\": \"neighbourhood_group\",\n      \"properties\": {\n        \"dtype\": \"category\",\n        \"num_unique_values\": 16,\n        \"samples\": [\n          \"Lisboa\",\n          \"Lourinh\",\n          \"Alenquer\"\n        ],\n        \"semantic_type\": \"\",\n        \"description\": \"\"\n      }\n    },\n    {\n      \"column\": \"neighbourhood\",\n      \"properties\": {\n        \"dtype\": \"category\",\n        \"num_unique_values\": 128,\n        \"samples\": [\n          \"So Pedro da Cadeira\",\n          \"Santo Isidoro\",\n          \"Alcabideche\"\n        ],\n        \"semantic_type\": \"\",\n        \"description\": \"\"\n      }\n    },\n    {\n      \"column\": \"latitude\",\n      \"properties\": {\n        \"dtype\": \"number\",\n        \"std\": 0.11586218800899721,\n        \"min\": 38.66127,\n        \"max\": 39.333706,\n        \"num_unique_values\": 9559,\n        \"samples\": [\n          38.738765657907614,\n          38.77395,\n          39.21355\n        ],\n        \"semantic_type\": \"\",\n        \"description\": \"\"\n      }\n    },\n    {\n      \"column\": \"longitude\",\n      \"properties\": {\n        \"dtype\": \"number\",\n        \"std\": 0.11512558630215729,\n        \"min\": -9.49852,\n        \"max\": -8.79472,\n        \"num_unique_values\": 10756,\n        \"samples\": [\n          -9.24416,\n          -9.38087,\n          -9.1039\n        ],\n        \"semantic_type\": \"\",\n        \"description\": \"\"\n      }\n    },\n    {\n      \"column\": \"room_type\",\n      \"properties\": {\n        \"dtype\": \"category\",\n        \"num_unique_values\": 4,\n        \"samples\": [\n          \"Private room\",\n          \"Shared room\",\n          \"Entire home/apt\"\n        ],\n        \"semantic_type\": \"\",\n        \"description\": \"\"\n      }\n    },\n    {\n      \"column\": \"price\",\n      \"properties\": {\n        \"dtype\": \"number\",\n        \"std\": 265,\n        \"min\": 0,\n        \"max\": 9999,\n        \"num_unique_values\": 641,\n        \"samples\": [\n          175,\n          397,\n          439\n        ],\n        \"semantic_type\": \"\",\n        \"description\": \"\"\n      }\n    },\n    {\n      \"column\": \"minimum_nights\",\n      \"properties\": {\n        \"dtype\": \"number\",\n        \"std\": 19,\n        \"min\": 1,\n        \"max\": 1000,\n        \"num_unique_values\": 55,\n        \"samples\": [\n          1000,\n          4,\n          55\n        ],\n        \"semantic_type\": \"\",\n        \"description\": \"\"\n      }\n    },\n    {\n      \"column\": \"number_of_reviews\",\n      \"properties\": {\n        \"dtype\": \"number\",\n        \"std\": 79,\n        \"min\": 0,\n        \"max\": 1833,\n        \"num_unique_values\": 467,\n        \"samples\": [\n          26,\n          96,\n          19\n        ],\n        \"semantic_type\": \"\",\n        \"description\": \"\"\n      }\n    },\n    {\n      \"column\": \"last_review\",\n      \"properties\": {\n        \"dtype\": \"object\",\n        \"num_unique_values\": 1313,\n        \"samples\": [\n          \"2020-08-22\",\n          \"2020-09-28\",\n          \"2016-09-10\"\n        ],\n        \"semantic_type\": \"\",\n        \"description\": \"\"\n      }\n    },\n    {\n      \"column\": \"reviews_per_month\",\n      \"properties\": {\n        \"dtype\": \"number\",\n        \"std\": 1.436713278896459,\n        \"min\": 0.01,\n        \"max\": 65.48,\n        \"num_unique_values\": 670,\n        \"samples\": [\n          3.76,\n          3.68,\n          2.86\n        ],\n        \"semantic_type\": \"\",\n        \"description\": \"\"\n      }\n    },\n    {\n      \"column\": \"calculated_host_listings_count\",\n      \"properties\": {\n        \"dtype\": \"number\",\n        \"std\": 37,\n        \"min\": 1,\n        \"max\": 274,\n        \"num_unique_values\": 52,\n        \"samples\": [\n          37,\n          110,\n          48\n        ],\n        \"semantic_type\": \"\",\n        \"description\": \"\"\n      }\n    },\n    {\n      \"column\": \"availability_365\",\n      \"properties\": {\n        \"dtype\": \"number\",\n        \"std\": 115,\n        \"min\": 0,\n        \"max\": 365,\n        \"num_unique_values\": 366,\n        \"samples\": [\n          213,\n          307,\n          280\n        ],\n        \"semantic_type\": \"\",\n        \"description\": \"\"\n      }\n    },\n    {\n      \"column\": \"number_of_reviews_ltm\",\n      \"properties\": {\n        \"dtype\": \"number\",\n        \"std\": 18,\n        \"min\": 0,\n        \"max\": 989,\n        \"num_unique_values\": 125,\n        \"samples\": [\n          31,\n          51,\n          38\n        ],\n        \"semantic_type\": \"\",\n        \"description\": \"\"\n      }\n    },\n    {\n      \"column\": \"license\",\n      \"properties\": {\n        \"dtype\": \"string\",\n        \"num_unique_values\": 12234,\n        \"samples\": [\n          \"113809/AL\",\n          \"37434/AL\",\n          \"104803/AL\"\n        ],\n        \"semantic_type\": \"\",\n        \"description\": \"\"\n      }\n    }\n  ]\n}"
            }
          },
          "metadata": {},
          "execution_count": 11
        }
      ]
    },
    {
      "cell_type": "code",
      "source": [
        "print(f'O dataset possui {df.shape[0]} entradas (registros) e {df.shape[1]} atributos (variáveis).')\n",
        "\n",
        "# Tipos de dados dos atributos\n",
        "print(f'\\nOs tipos dos atributos são do tipo:\\n{df.dtypes}')"
      ],
      "metadata": {
        "id": "s16Ygls1MrJi",
        "outputId": "358fefc3-e163-4502-c561-1c3563a881db",
        "colab": {
          "base_uri": "https://localhost:8080/"
        }
      },
      "execution_count": 10,
      "outputs": [
        {
          "output_type": "stream",
          "name": "stdout",
          "text": [
            "O dataset possui 18929 entradas (registros) e 18 atributos (variáveis).\n",
            "\n",
            "Os tipos dos atributos são do tipo:\n",
            "id                                  int64\n",
            "name                               object\n",
            "host_id                             int64\n",
            "host_name                          object\n",
            "neighbourhood_group                object\n",
            "neighbourhood                      object\n",
            "latitude                          float64\n",
            "longitude                         float64\n",
            "room_type                          object\n",
            "price                               int64\n",
            "minimum_nights                      int64\n",
            "number_of_reviews                   int64\n",
            "last_review                        object\n",
            "reviews_per_month                 float64\n",
            "calculated_host_listings_count      int64\n",
            "availability_365                    int64\n",
            "number_of_reviews_ltm               int64\n",
            "license                            object\n",
            "dtype: object\n"
          ]
        }
      ]
    },
    {
      "cell_type": "markdown",
      "metadata": {
        "id": "yz1urSUGW9iE"
      },
      "source": [
        "### **Q2. Qual a porcentagem de valores ausentes no *dataset*?**"
      ]
    },
    {
      "cell_type": "code",
      "source": [
        "print(f'As variáveis com mais dados faltantes, em porcentagem (%), são:\\n')\n",
        "((df.isnull().sum() / df.shape[0])*100).sort_values(ascending=False)"
      ],
      "metadata": {
        "id": "3-CRZu1D-CHG",
        "outputId": "39226609-5c61-4c8b-e5c4-068c72429ed5",
        "colab": {
          "base_uri": "https://localhost:8080/",
          "height": 685
        }
      },
      "execution_count": 7,
      "outputs": [
        {
          "output_type": "stream",
          "name": "stdout",
          "text": [
            "As variáveis com mais dados faltantes, em porcentagem (%), são:\n",
            "\n"
          ]
        },
        {
          "output_type": "execute_result",
          "data": {
            "text/plain": [
              "reviews_per_month                 12.858577\n",
              "last_review                       12.858577\n",
              "license                            7.750013\n",
              "name                               0.042263\n",
              "id                                 0.000000\n",
              "host_id                            0.000000\n",
              "latitude                           0.000000\n",
              "host_name                          0.000000\n",
              "neighbourhood_group                0.000000\n",
              "neighbourhood                      0.000000\n",
              "price                              0.000000\n",
              "room_type                          0.000000\n",
              "longitude                          0.000000\n",
              "number_of_reviews                  0.000000\n",
              "minimum_nights                     0.000000\n",
              "calculated_host_listings_count     0.000000\n",
              "availability_365                   0.000000\n",
              "number_of_reviews_ltm              0.000000\n",
              "dtype: float64"
            ],
            "text/html": [
              "<div>\n",
              "<style scoped>\n",
              "    .dataframe tbody tr th:only-of-type {\n",
              "        vertical-align: middle;\n",
              "    }\n",
              "\n",
              "    .dataframe tbody tr th {\n",
              "        vertical-align: top;\n",
              "    }\n",
              "\n",
              "    .dataframe thead th {\n",
              "        text-align: right;\n",
              "    }\n",
              "</style>\n",
              "<table border=\"1\" class=\"dataframe\">\n",
              "  <thead>\n",
              "    <tr style=\"text-align: right;\">\n",
              "      <th></th>\n",
              "      <th>0</th>\n",
              "    </tr>\n",
              "  </thead>\n",
              "  <tbody>\n",
              "    <tr>\n",
              "      <th>reviews_per_month</th>\n",
              "      <td>12.858577</td>\n",
              "    </tr>\n",
              "    <tr>\n",
              "      <th>last_review</th>\n",
              "      <td>12.858577</td>\n",
              "    </tr>\n",
              "    <tr>\n",
              "      <th>license</th>\n",
              "      <td>7.750013</td>\n",
              "    </tr>\n",
              "    <tr>\n",
              "      <th>name</th>\n",
              "      <td>0.042263</td>\n",
              "    </tr>\n",
              "    <tr>\n",
              "      <th>id</th>\n",
              "      <td>0.000000</td>\n",
              "    </tr>\n",
              "    <tr>\n",
              "      <th>host_id</th>\n",
              "      <td>0.000000</td>\n",
              "    </tr>\n",
              "    <tr>\n",
              "      <th>latitude</th>\n",
              "      <td>0.000000</td>\n",
              "    </tr>\n",
              "    <tr>\n",
              "      <th>host_name</th>\n",
              "      <td>0.000000</td>\n",
              "    </tr>\n",
              "    <tr>\n",
              "      <th>neighbourhood_group</th>\n",
              "      <td>0.000000</td>\n",
              "    </tr>\n",
              "    <tr>\n",
              "      <th>neighbourhood</th>\n",
              "      <td>0.000000</td>\n",
              "    </tr>\n",
              "    <tr>\n",
              "      <th>price</th>\n",
              "      <td>0.000000</td>\n",
              "    </tr>\n",
              "    <tr>\n",
              "      <th>room_type</th>\n",
              "      <td>0.000000</td>\n",
              "    </tr>\n",
              "    <tr>\n",
              "      <th>longitude</th>\n",
              "      <td>0.000000</td>\n",
              "    </tr>\n",
              "    <tr>\n",
              "      <th>number_of_reviews</th>\n",
              "      <td>0.000000</td>\n",
              "    </tr>\n",
              "    <tr>\n",
              "      <th>minimum_nights</th>\n",
              "      <td>0.000000</td>\n",
              "    </tr>\n",
              "    <tr>\n",
              "      <th>calculated_host_listings_count</th>\n",
              "      <td>0.000000</td>\n",
              "    </tr>\n",
              "    <tr>\n",
              "      <th>availability_365</th>\n",
              "      <td>0.000000</td>\n",
              "    </tr>\n",
              "    <tr>\n",
              "      <th>number_of_reviews_ltm</th>\n",
              "      <td>0.000000</td>\n",
              "    </tr>\n",
              "  </tbody>\n",
              "</table>\n",
              "</div><br><label><b>dtype:</b> float64</label>"
            ]
          },
          "metadata": {},
          "execution_count": 7
        }
      ]
    },
    {
      "cell_type": "markdown",
      "source": [
        "As variaveis com maior valor faltante são reviews_per_month com 12,86% | last_review com 12,86%¨| license com 7,75% | name com 0,04%"
      ],
      "metadata": {
        "id": "M7pcrtzYBjS6"
      }
    },
    {
      "cell_type": "markdown",
      "metadata": {
        "id": "iHXvvHIxaoNc"
      },
      "source": [
        "### **Q3. Qual o tipo de distribuição das variáveis?**"
      ]
    },
    {
      "cell_type": "code",
      "source": [
        "#Distribuição de variaveis\n",
        "df.hist(bins=15, figsize=(20,16));"
      ],
      "metadata": {
        "id": "uWLes4fF-Cys",
        "outputId": "5430598b-151b-4297-c28f-e32df11a73ee",
        "colab": {
          "base_uri": "https://localhost:8080/",
          "height": 1000
        }
      },
      "execution_count": 8,
      "outputs": [
        {
          "output_type": "display_data",
          "data": {
            "text/plain": [
              "<Figure size 2000x1600 with 12 Axes>"
            ],
            "image/png": "[encoded data removed]"
          },
          "metadata": {}
        }
      ]
    },
    {
      "cell_type": "markdown",
      "metadata": {
        "id": "7x4aw1j5wNmn"
      },
      "source": [
        "### **Q4. Qual a média dos preços de aluguel?**"
      ]
    },
    {
      "cell_type": "code",
      "source": [
        "avg_price = df['price'].mean()\n",
        "\n",
        "print(f\"Média de preços: R${avg_price:.2f}\")"
      ],
      "metadata": {
        "id": "9Vmx7-bP-DL8",
        "outputId": "6c30f05e-cb68-4a88-c4f9-9cf6b791e577",
        "colab": {
          "base_uri": "https://localhost:8080/"
        }
      },
      "execution_count": 13,
      "outputs": [
        {
          "output_type": "stream",
          "name": "stdout",
          "text": [
            "Média de preços: R$133.74\n"
          ]
        }
      ]
    },
    {
      "cell_type": "markdown",
      "metadata": {
        "id": "7b6RMWpuHKN-"
      },
      "source": [
        "### **Q5. Qual o tipo de imóvel mais disponível no Booking?**"
      ]
    },
    {
      "cell_type": "code",
      "source": [
        "# Agrupar por tipo de imovel e somar as disponibilidades\n",
        "imovel = df.groupby(\"room_type\")[\"availability_365\"].sum()\n",
        "\n",
        "# Encontrar o tipo de imóvel com a maior disponibilidade\n",
        "top_imovel = imovel.idxmax()\n",
        "top_disponibilidade = imovel.max()\n",
        "\n",
        "print(f\"Tipo de imovel mais disponivel no Booking é o {top_imovel} com disponibilidade de ({top_disponibilidade:.2f} dias)\")"
      ],
      "metadata": {
        "id": "EkOnUsau-Dum",
        "outputId": "930aa618-e459-44bd-fa47-37bb31d1b016",
        "colab": {
          "base_uri": "https://localhost:8080/"
        }
      },
      "execution_count": 21,
      "outputs": [
        {
          "output_type": "stream",
          "name": "stdout",
          "text": [
            "Tipo de imóvel mais disponível no Booking é 'Entire home/apt' com disponibilidade total de 2820542.00 dias.\n"
          ]
        }
      ]
    },
    {
      "cell_type": "markdown",
      "metadata": {
        "id": "MFa5NbnLJMcd"
      },
      "source": [
        "### **Q6. Qual a localidade mais cara?**\n",
        "\n"
      ]
    },
    {
      "cell_type": "code",
      "source": [
        "# Calcular o preço médio por localidade (bairro)\n",
        "preco_medio_por_bairro = df.groupby(\"neighbourhood\")[\"price\"].mean()\n",
        "\n",
        "# Identificar a localidade mais cara\n",
        "bairro_mais_caro = preco_medio_por_bairro.idxmax()\n",
        "preco_mais_caro = preco_medio_por_bairro.max()\n",
        "\n",
        "# Exibir o resultado\n",
        "print(\n",
        "    f\"A localidade mais cara é '{bairro_mais_caro}' \"\n",
        "    f\"com preço médio de {preco_mais_caro:.2f} euros por noite.\"\n",
        ")\n"
      ],
      "metadata": {
        "id": "n5j5CAJ2-Ehk",
        "outputId": "2ae07a52-fb6e-409c-c334-80155f84dfb7",
        "colab": {
          "base_uri": "https://localhost:8080/"
        }
      },
      "execution_count": 20,
      "outputs": [
        {
          "output_type": "stream",
          "name": "stdout",
          "text": [
            "A localidade mais cara é 'Ota' com preço médio de 375.00 euros por noite.\n"
          ]
        }
      ]
    },
    {
      "cell_type": "markdown",
      "metadata": {
        "id": "vTneAMRUYvr1"
      },
      "source": [
        "### **Q7. Qual é a média do mínimo de noites para aluguel (minimum_nights)?**"
      ]
    },
    {
      "cell_type": "code",
      "source": [
        "avg_nights = df['minimum_nights'].mean()\n",
        "\n",
        "print(f\"Média do minimo de noites é  {avg_nights:.2f} noites\")"
      ],
      "metadata": {
        "id": "4BlhH4iG-Fak",
        "outputId": "fd9da3d9-039f-4448-c385-af8d8dfb605c",
        "colab": {
          "base_uri": "https://localhost:8080/"
        }
      },
      "execution_count": 19,
      "outputs": [
        {
          "output_type": "stream",
          "name": "stdout",
          "text": [
            "Média do minimo de noites é  4.26 noites\n"
          ]
        }
      ]
    }
  ],
  "metadata": {
    "colab": {
      "provenance": []
    },
    "kernelspec": {
      "display_name": "Python 3 (ipykernel)",
      "language": "python",
      "name": "python3"
    },
    "language_info": {
      "codemirror_mode": {
        "name": "ipython",
        "version": 3
      },
      "file_extension": ".py",
      "mimetype": "text/x-python",
      "name": "python",
      "nbconvert_exporter": "python",
      "pygments_lexer": "ipython3",
      "version": "3.9.7"
    }
  },
  "nbformat": 4,
  "nbformat_minor": 0
}