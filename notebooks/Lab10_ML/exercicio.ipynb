{
 "cells": [
  {
   "cell_type": "markdown",
   "id": "ecad5a4a",
   "metadata": {},
   "source": [
    "## Exercício Desafiador: Detecção de Diabetes com Classificadores Supervisionados\n",
    "\n",
    "## Objetivo\n",
    "Desenvolver um sistema completo de classificação para prever o diagnóstico de diabetes em mulheres de origem indígena Pima, com base em variáveis clínicas. O exercício envolve desde a preparação dos dados até a avaliação comparativa de diversos modelos.\n",
    "\n",
    "\n",
    "#### **Base utilizada:** *Pima Indians Diabetes Database*\n",
    "Dataset disponível aqui no repositório.\n",
    "\n",
    "### Dicionário de Atributos (Traduzido)\n",
    "| Atributo | Descrição |\n",
    "|----------|-----------|\n",
    "| `preg` | Número de gestações |\n",
    "| `plas` | Concentração de glicose na hora do teste oral de glicose |\n",
    "| `pres` | Pressão arterial diastólica (mm Hg) |\n",
    "| `skin` | Espessura da dobra cutânea do tríceps (mm) |\n",
    "| `insu` | Nível de insulina sérica (mu U/ml) |\n",
    "| `mass` | Índice de massa corporal (IMC) |\n",
    "| `pedi` | Função pedigree do diabetes (histórico familiar) |\n",
    "| `age` | Idade (anos) |\n",
    "| `class` | Diagnóstico (0 = negativo, 1 = positivo para diabetes) |"
   ]
  },
  {
   "cell_type": "markdown",
   "id": "c6d75367",
   "metadata": {},
   "source": [
    "**Responder às perguntas a seguir**\n",
    "   - Qual modelo teve o melhor **recall**? Por que isso é importante para diagnóstico?\n",
    "   - Houve modelo com alto **precision**, mas baixo **recall**? O que isso representa?\n",
    "   - Qual modelo teve o melhor equilíbrio geral (F1-score)?\n",
    "   - Qual modelo você recomendaria para ser usado em produção hospitalar?"
   ]
  }
 ],
 "metadata": {
  "kernelspec": {
   "display_name": "aulas_pos",
   "language": "python",
   "name": "python3"
  },
  "language_info": {
   "codemirror_mode": {
    "name": "ipython",
    "version": 3
   },
   "file_extension": ".py",
   "mimetype": "text/x-python",
   "name": "python",
   "nbconvert_exporter": "python",
   "pygments_lexer": "ipython3",
   "version": "3.11.8"
  }
 },
 "nbformat": 4,
 "nbformat_minor": 5
}
