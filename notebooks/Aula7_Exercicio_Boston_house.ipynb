{
 "cells": [
  {
   "cell_type": "markdown",
   "id": "700807f5",
   "metadata": {},
   "source": [
    "# Base de Dados: Boston House Price Prediction\n",
    "\n",
    "- Baixe o arquivo no link: [Clique aqui para baixar o arquivo](https://drive.google.com/file/d/1TKIvPZb7d2czqceDbPKv_Adhven7iz7K/view?usp=sharing)\n",
    "\n",
    "## Descrição\n",
    "A base de dados **Boston House Price** é um conjunto de dados clássico usado para prever o valor médio de casas em bairros de Boston (EUA) com base em diversas características socioeconômicas e geográficas. Ela contém 506 observações e 14 atributos (incluindo a variável alvo).\n",
    "\n",
    "## Dicionário de Dados (Atributos + Tradução)\n",
    "\n",
    "| Nome do Atributo (Inglês)       | Tradução (Português)          | Descrição                                                                 |\n",
    "|----------------------------------|--------------------------------|---------------------------------------------------------------------------|\n",
    "| **CRIM**                         | Taxa de Criminalidade         | Taxa de crimes per capita por bairro.                                     |\n",
    "| **ZN**                           | Proporção de Zonas Residenciais | Proporção de terrenos residenciais zoneados para lotes grandes.          |\n",
    "| **INDUS**                        | Proporção de Áreas Industriais | Proporção de acres não-varejistas por bairro.                            |\n",
    "| **CHAS**                         | Limite com o Rio Charles      | Variável dummy (1 se o bairro faz fronteira com o rio; 0 caso contráio). |\n",
    "| **NOX**                          | Concentração de Óxidos Nitrosos | Concentração de óxidos nítricos (partes por 10 milhões).                 |\n",
    "| **RM**                           | Número Médio de Quartos       | Número médio de quartos por habitação.                                    |\n",
    "| **AGE**                          | Idade das Propriedades        | Proporção de unidades ocupadas pelos proprietários construídas antes de 1940. |\n",
    "| **DIS**                          | Distância dos Empregos        | Distância ponderada até 5 centros empregatícios de Boston.               |\n",
    "| **RAD**                          | Acesso a Rodovias             | Índice de acessibilidade às rodovias radiais.                            |\n",
    "| **TAX**                          | Taxa de Imposto Predial       | Taxa de imposto sobre propriedade por $10,000.                           |\n",
    "| **PTRATIO**                      | Proporção Aluno-Professor     | Proporção de alunos por professor na região.                             |\n",
    "| **B**                            | Proporção de Afrodescendentes | Proporção de afrodescendentes por bairro (1000*(Bk - 0.63)²).            |\n",
    "| **LSTAT**                        | % de População de Baixa Renda | Porcentagem de população de baixa renda.                                 |\n",
    "| **MEDV** (Target)                | Valor Médio das Casas         | Valor médio das casas ocupadas pelos proprietários (em $1,000).          |\n",
    "\n",
    "---"
   ]
  },
  {
   "cell_type": "code",
   "execution_count": null,
   "id": "c16878c6",
   "metadata": {},
   "outputs": [],
   "source": [
    "# Carregando a base\n",
    "names = ['CRIM', 'ZN', 'INDUS', 'CHAS', 'NOX', 'RM', 'AGE', 'DIS', 'RAD', 'TAX', 'PTRATIO', 'B', 'LSTAT', 'MEDV']\n",
    "dataset = pd.read_csv(filename, delim_whitespace=True, names=names)"
   ]
  },
  {
   "cell_type": "markdown",
   "id": "e6379b3e",
   "metadata": {},
   "source": [
    "### Análise Exploratória e Data Cleanning\n",
    "**Questão 01**: Faça a análise exploratória (Estatísticas e plots) e a limpeza dos dados."
   ]
  },
  {
   "cell_type": "markdown",
   "id": "3990f2aa",
   "metadata": {},
   "source": [
    "### Regressão Linear Simples\n",
    "**Questão 02**: Qual a precisão de estimar o valor médio das casas (`MEDV`) através do número médio de quartos (`RM`)?  "
   ]
  },
  {
   "cell_type": "markdown",
   "id": "10499764",
   "metadata": {},
   "source": [
    "###  Regressão Linear Múltipla (2 Variáveis)\n",
    "**Questão 03**:  Como a taxa de criminalidade (CRIM) e a distância dos empregos (DIS) afetam conjuntamente o valor das casas (MEDV)?\n",
    "**Questão 04**:  Quais atributos têm maior influência no valor das casas? Faça uma regressão linear com esses atributos.\n"
   ]
  }
 ],
 "metadata": {
  "kernelspec": {
   "display_name": "aulas_pos",
   "language": "python",
   "name": "python3"
  },
  "language_info": {
   "name": "python",
   "version": "3.11.8"
  }
 },
 "nbformat": 4,
 "nbformat_minor": 5
}
