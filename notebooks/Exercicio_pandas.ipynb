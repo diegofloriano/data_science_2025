{
  "cells": [
    {
      "cell_type": "markdown",
      "metadata": {
        "id": "HmClZ7Wk63mg"
      },
      "source": [
        "# Exercícios Pandas\n",
        "\n",
        "#### 1)  crie uma série do pandas a partir de uma lista com os dados abaixo:\n",
        "\n",
        "Em um estudo sobre alteração na tempreatura global, A NASA disponibiliza dados de diferenças de temperatura média da superfície terrestre relativos às médias de temperatura entre 1951 e 1980. Os dados originais podem ser vistos no site da NASA/GISS, e estão dispostos a cada década na tabela abaixo.\n",
        "\n",
        "|ano|anomalia térmica|\n",
        "|:-:|:----:|\n",
        "| 1900 | -0.08 |\n",
        "| 1920 | -0.27 |\n",
        "| 1940 | 0.12 |\n",
        "| 1960 | -0.03 |\n",
        "| 1980 | 0.26 |\n",
        "| 2000 | 0.40 |\n",
        "| 2020 | 1.02 |\n",
        "\n",
        "Crie uma séries do Pandas a partir de uma lista com esses dados."
      ]
    },
    {
      "cell_type": "code",
      "execution_count": 1,
      "metadata": {
        "id": "BZxSevYd63mh",
        "outputId": "a9a33968-fcb8-45b4-96ca-658a1c667f7a",
        "colab": {
          "base_uri": "https://localhost:8080/"
        }
      },
      "outputs": [
        {
          "output_type": "stream",
          "name": "stdout",
          "text": [
            "    ano  anomalia_térmica\n",
            "0  1900             -0.08\n",
            "1  1920             -0.27\n",
            "2  1940              0.12\n",
            "3  1960             -0.03\n",
            "4  1980              0.26\n",
            "5  2000              0.40\n",
            "6  2020              1.02\n",
            "0   -0.08\n",
            "1   -0.27\n",
            "2    0.12\n",
            "3   -0.03\n",
            "4    0.26\n",
            "5    0.40\n",
            "6    1.02\n",
            "Name: anomalia_térmica, dtype: float64\n"
          ]
        }
      ],
      "source": [
        "import pandas as pd\n",
        "import numpy as np\n",
        "import math\n",
        "\n",
        "dados = [\n",
        "    [1900, -0.08],\n",
        "    [1920, -0.27],\n",
        "    [1940, 0.12],\n",
        "    [1960, -0.03],\n",
        "    [1980, 0.26],\n",
        "    [2000, 0.40],\n",
        "    [2020, 1.02]\n",
        "]\n",
        "\n",
        "df = pd.DataFrame(dados, columns=[\"ano\", \"anomalia_térmica\"])\n",
        "print(df)\n",
        "\n",
        "serie_anomalia = df[\"anomalia_térmica\"]\n",
        "print(serie_anomalia)"
      ]
    },
    {
      "cell_type": "markdown",
      "metadata": {
        "id": "lYDwXbIE63mj"
      },
      "source": [
        "#### 2) Coloque os anos nos índices conforme a tabela."
      ]
    },
    {
      "cell_type": "code",
      "execution_count": null,
      "metadata": {
        "id": "yxanpi1o63mk"
      },
      "outputs": [],
      "source": [
        "# Dados de anomalia térmica\n",
        "dados = [-0.08, -0.27, 0.12, -0.03, 0.26, 0.40, 1.02]\n",
        "\n",
        "# Anos correspondentes aos dados\n",
        "anos = [1900, 1920, 1940, 1960, 1980, 2000, 2020]\n",
        "\n",
        "# Criando a série com os anos como índice\n",
        "serie = pd.Series(dados, index=anos)\n",
        "\n",
        "# Exibindo a série\n",
        "print(serie)\n"
      ]
    },
    {
      "cell_type": "markdown",
      "metadata": {
        "id": "rbXTIyzf63mk"
      },
      "source": [
        "#### 3) A partir do dicionário abaixo, crie uma séries do Pandas:"
      ]
    },
    {
      "cell_type": "code",
      "execution_count": 2,
      "metadata": {
        "id": "2kZIOPsr63mk",
        "outputId": "648eba4a-1d2a-45e2-8f51-de0e92015519",
        "colab": {
          "base_uri": "https://localhost:8080/"
        }
      },
      "outputs": [
        {
          "output_type": "stream",
          "name": "stdout",
          "text": [
            "1900   -0.08\n",
            "1920   -0.27\n",
            "1940    0.12\n",
            "1960   -0.03\n",
            "1980    0.26\n",
            "2000    0.40\n",
            "2020    1.02\n",
            "dtype: float64\n"
          ]
        }
      ],
      "source": [
        "dic_temperaturas = {1900: -.08, 1920: -.27, 1940: .12, 1960: -.03, 1980: .26, 2000: .40, 2020: 1.02}\n",
        "\n",
        "#Criando a serie panda\n",
        "serie_temperatura = pd.Series(dic_temperaturas)\n",
        "\n",
        "#exibindo a serie\n",
        "print(serie_temperatura)\n"
      ]
    },
    {
      "cell_type": "markdown",
      "metadata": {
        "id": "C99KOLR963ml"
      },
      "source": [
        "#### 4) Transforme o ndarray abaixo em um dataframe.\n",
        "O numpy é capaz de gerar arrays n-dimensionais com números pseudo-aleatórios de acordo com uma variedade de distribuições, como no exemplo abaixo. Transforme esse nd-array em um DataFrame."
      ]
    },
    {
      "cell_type": "code",
      "execution_count": 3,
      "metadata": {
        "id": "rVkr6hmq63ml",
        "outputId": "e4b14d61-f592-469b-de10-c6df984200b2",
        "colab": {
          "base_uri": "https://localhost:8080/"
        }
      },
      "outputs": [
        {
          "output_type": "stream",
          "name": "stdout",
          "text": [
            "      Coluna 1    Coluna 2    Coluna 3\n",
            "0    80.210676  114.033640  107.499259\n",
            "1    88.611585  106.562698   96.437698\n",
            "2   104.811336  105.565975  100.541397\n",
            "3    81.526028  107.962659  113.535924\n",
            "4    82.695813   96.034736  124.179394\n",
            "5    78.960141   94.248810   75.540574\n",
            "6    97.137363   92.677617   81.386052\n",
            "7    97.846779  110.610390  100.344894\n",
            "8   106.441685   96.441963   89.030204\n",
            "9   106.258002  118.380746   98.503982\n",
            "10  105.005237   91.994165  121.180274\n",
            "11  101.404386   75.979671  104.495221\n",
            "12   94.636663  123.324608  100.864242\n",
            "13   99.375067  102.811721  103.400231\n",
            "14  105.532426   81.991617   95.248827\n",
            "15  109.267852  100.925814   92.820648\n",
            "16  113.042334  107.464779   95.895621\n",
            "17  110.354333   92.000188   83.613430\n",
            "18  102.068804   95.506257   88.634771\n",
            "19  103.242719  112.534834  110.410162\n"
          ]
        }
      ],
      "source": [
        "arr = np.random.normal(100, 10, (20,3)) #um dataframe de 20 linhas e tres colunas com uma distribuição normal de media 100 e desvio padrão 10\n",
        "\n",
        "df = pd.DataFrame(arr, columns=[\"Coluna 1\", \"Coluna 2\", \"Coluna 3\"])\n",
        "\n",
        "print(df)"
      ]
    },
    {
      "cell_type": "markdown",
      "metadata": {
        "id": "C6T2qBTx63ml"
      },
      "source": [
        "#### 5) Nomeie os índices das linhas com inteiros de 1 a 20, e as colunas com os nomes \"x1\", \"x2\", e \"x3\" respectivamente."
      ]
    },
    {
      "cell_type": "code",
      "execution_count": 7,
      "metadata": {
        "id": "rOXdiXoU63mm",
        "outputId": "6cb7b450-1996-470f-e690-80bc602bf898",
        "colab": {
          "base_uri": "https://localhost:8080/"
        }
      },
      "outputs": [
        {
          "output_type": "stream",
          "name": "stdout",
          "text": [
            "            x1          x2          x3\n",
            "1    96.242660   99.605939   98.940583\n",
            "2   109.751988   74.135860   88.795884\n",
            "3    91.518450   88.144039  113.463275\n",
            "4    96.915185  109.047921  102.655897\n",
            "5   115.650915  100.917981  104.886460\n",
            "6    96.759585  115.213834  105.602099\n",
            "7    85.045744  108.093874  121.359386\n",
            "8    89.411857  102.752175  115.185175\n",
            "9    95.246178   93.970680  103.162004\n",
            "10   86.161160  107.541073  111.867235\n",
            "11  104.856183   89.000556  114.321389\n",
            "12  112.071969   90.379488  103.154387\n",
            "13   89.568798  101.333874  111.156709\n",
            "14   83.715442   97.437010   77.366338\n",
            "15   88.088437   89.116068   91.155162\n",
            "16   97.257718   83.013950  101.328743\n",
            "17  114.483979  107.691414  109.777554\n",
            "18   91.895330   83.888115   96.364916\n",
            "19   92.871954   84.311878  111.669353\n",
            "20   97.351024   69.958661  110.103037\n"
          ]
        }
      ],
      "source": [
        "arr = np.random.normal(100, 10, (20,3))\n",
        "\n",
        "df = pd.DataFrame(arr, index=range(1,21), columns=[\"x1\", \"x2\", \"x3\"])\n",
        "\n",
        "print(df)\n"
      ]
    },
    {
      "cell_type": "markdown",
      "metadata": {
        "id": "crXhHiHZ63mm"
      },
      "source": [
        "#### 6) No DataFrame do exercício 5, crie uma nova coluna como sendo a média das três colunas, e dê a ela o nome de \"media\" (não recomendo colocar acentos em nomes de variáveis)."
      ]
    },
    {
      "cell_type": "code",
      "execution_count": 11,
      "metadata": {
        "id": "u_OJXkgb63mm",
        "outputId": "9bbad805-a957-4fe2-b6c0-09b24a158ec4",
        "colab": {
          "base_uri": "https://localhost:8080/"
        }
      },
      "outputs": [
        {
          "output_type": "stream",
          "name": "stdout",
          "text": [
            "            x1          x2          x3       media\n",
            "1    95.079159  102.468962  100.677614   99.408578\n",
            "2   108.596467  111.203586  108.373011  109.391021\n",
            "3    95.911169   98.383712  101.086169   98.460350\n",
            "4   101.388638  111.678145  104.100285  105.722356\n",
            "5   105.591445  110.145642   88.897924  101.545004\n",
            "6   115.163520  110.910718  122.343582  116.139273\n",
            "7    98.777984   98.688125  103.758861  100.408323\n",
            "8   108.038474  103.490149   90.145718  100.558114\n",
            "9   109.033963   83.035238   94.744215   95.604472\n",
            "10  105.975503   90.394299   89.228906   95.199569\n",
            "11  100.424273   91.236771   85.507303   92.389449\n",
            "12   97.232041   97.274648  107.512725  100.673138\n",
            "13  110.802408  100.110115   91.356282  100.756268\n",
            "14   94.293412  104.910224   97.108736   98.770791\n",
            "15   98.235469   79.691140   84.340162   87.422257\n",
            "16   99.820606   99.270255   91.667638   96.919500\n",
            "17   98.070932  103.986710   94.703762   98.920468\n",
            "18   99.227570  102.505885   96.393619   99.375691\n",
            "19   94.020894  108.807440  102.411533  101.746622\n",
            "20  110.437371   94.672412  100.143490  101.751091\n"
          ]
        }
      ],
      "source": [
        "arr = np.random.normal(100, 10, (20,3))\n",
        "\n",
        "df = pd.DataFrame(arr, index=range(1,21), columns=[\"x1\", \"x2\", \"x3\"])\n",
        "\n",
        "# Adicionar a coluna 'media', que será a média das colunas 'x1', 'x2', 'x3' para cada linha\n",
        "df[\"media\"] = df.mean(axis=1) #axis=0 calcula por coluna e axis=1 calcula por linha\n",
        "\n",
        "print(df)\n"
      ]
    },
    {
      "cell_type": "markdown",
      "metadata": {
        "id": "OIBNh8cZ63mn"
      },
      "source": [
        "#### 7) No DataFrame do exercício 6, crie uma nova coluna chamada \"log_med\", contendo o logaritmo natural da média calculada no exercício 6 <br>"
      ]
    },
    {
      "cell_type": "code",
      "execution_count": 14,
      "metadata": {
        "id": "VSIokk6R63mn",
        "outputId": "7753f56d-532e-49fc-893d-7da3882348bf",
        "colab": {
          "base_uri": "https://localhost:8080/"
        }
      },
      "outputs": [
        {
          "output_type": "stream",
          "name": "stdout",
          "text": [
            "            x1          x2          x3       media   log_med\n",
            "1   111.579795  117.287892  105.068285  111.311991  4.712337\n",
            "2    85.944943  111.808359   80.321899   92.691733  4.529279\n",
            "3   115.388198  102.506147   90.544849  102.813065  4.632912\n",
            "4   111.396529  107.419694  104.413015  107.743079  4.679749\n",
            "5    91.109082   94.526425  106.575396   97.403634  4.578864\n",
            "6    92.586514  109.617768  115.053802  105.752695  4.661103\n",
            "7   103.859017  103.563412   91.420290   99.614240  4.601305\n",
            "8   121.791666  113.404543  108.865829  114.687346  4.742210\n",
            "9    94.549088  102.185345  106.223307  100.985913  4.614981\n",
            "10   98.657453   83.030022  112.025236   97.904237  4.583990\n",
            "11   70.359359  103.811762   98.927309   91.032810  4.511220\n",
            "12   99.958777   89.013649  101.099656   96.690694  4.571517\n",
            "13  101.177645   79.201034  110.728556   97.035745  4.575079\n",
            "14  118.651779   95.987902   92.017560  102.219081  4.627118\n",
            "15  119.291458  109.919273  110.122688  113.111140  4.728371\n",
            "16  106.701241   93.400575   96.503342   98.868386  4.593790\n",
            "17  108.069543  109.541591  113.394517  110.335217  4.703523\n",
            "18   94.758609   87.384985  108.274127   96.805907  4.572708\n",
            "19   98.660054  103.769015  101.941819  101.456963  4.619635\n",
            "20   87.132866  123.258754   76.718779   95.703466  4.561255\n"
          ]
        }
      ],
      "source": [
        "arr = np.random.normal(100, 10, (20,3))\n",
        "\n",
        "df = pd.DataFrame(arr, index=range(1,21), columns=[\"x1\", \"x2\", \"x3\"])\n",
        "\n",
        "df[\"media\"] = df.mean(axis=1)\n",
        "\n",
        "df[\"log_med\"] = np.log(df[\"media\"])\n",
        "\n",
        "print(df)\n",
        "\n"
      ]
    },
    {
      "cell_type": "markdown",
      "metadata": {
        "id": "LEVPYyYY2Xjs"
      },
      "source": [
        "#### 8) Análise de Vendas de Jogos Eletrônicos com Pandas\n",
        "\n",
        "1. Baixe o dataset **\"Venda de jogos\"** (Video Game Sales), que contém dados sobre jogos com mais de 100.000 cópias vendidas.\n",
        "\n",
        "- Baixe a base: [Clique aqui para baixar o arquivo](https://drive.google.com/file/d/1LTQSnw4ft90OCA7k2OwPw71MGY52FrSI/view?usp=sharing)\n",
        "\n",
        "A fonte original é o site [vgchartz.com](https://www.vgchartz.com).\n",
        "\n",
        "2. Carregue os dados usando a biblioteca `pandas`.\n",
        "3. Responda às perguntas abaixo com base na sua análise.\n",
        "\n",
        "#### Dicionário de Dados - Venda de Jogos\n",
        "\n",
        "Este dicionário descreve cada uma das colunas presentes no dataset de vendas de jogos eletrônicos.\n",
        "\n",
        "| Coluna         | Tipo de Dado     | Descrição                                                                 |\n",
        "|----------------|------------------|---------------------------------------------------------------------------|\n",
        "| `Rank`         | Inteiro          | Posição no ranking geral de vendas globais.                              |\n",
        "| `Name`         | Texto (string)   | Nome do jogo.                                                             |\n",
        "| `Platform`     | Texto (string)   | Plataforma em que o jogo foi lançado (ex: PS4, PC, Xbox One, etc.).      |\n",
        "| `Year`         | Numérico (float) | Ano de lançamento do jogo.                                               |\n",
        "| `Genre`        | Texto (string)   | Gênero do jogo (ex: Action, Sports, RPG, etc.).                          |\n",
        "| `Publisher`    | Texto (string)   | Empresa responsável pela publicação do jogo.                             |\n",
        "| `NA_Sales`     | Numérico (float) | Vendas na América do Norte (em milhões de unidades).                     |\n",
        "| `EU_Sales`     | Numérico (float) | Vendas na Europa (em milhões de unidades).                               |\n",
        "| `JP_Sales`     | Numérico (float) | Vendas no Japão (em milhões de unidades).                                |\n",
        "| `Other_Sales`  | Numérico (float) | Vendas no restante do mundo (exceto NA, EU e JP), em milhões de unidades.|\n",
        "| `Global_Sales` | Numérico (float) | Total de vendas globais (em milhões de unidades).                        |\n",
        "\n",
        "\n",
        "---\n",
        "\n",
        "## Perguntas\n",
        "\n",
        "1. **Qual foi o gênero de jogo com o maior volume de vendas globais (`Global_Sales`)?**  \n",
        "   *Dica:* Use `groupby` com a coluna `Genre` e some as vendas globais.\n",
        "\n",
        "2. **Quais são as 5 plataformas com maior média de vendas na América do Norte (`NA_Sales`)?**  \n",
        "   *Dica:* Use `groupby` na coluna `Platform` e calcule a média de `NA_Sales`.\n",
        "\n",
        "3. **Qual publisher lançou o maior número de jogos entre os anos de 2000 e 2010?**  \n",
        "   *Dica:* Filtre as linhas com `Year` entre 2000 e 2010 e conte os jogos por `Publisher`.\n",
        "\n",
        "4. **Existe alguma relação aparente entre as vendas no Japão (`JP_Sales`) e o gênero do jogo?**  \n",
        "   *Dica:* Compare as médias ou medianas de `JP_Sales` por `Genre` e descreva o que observou.\n",
        "\n"
      ]
    },
    {
      "cell_type": "markdown",
      "metadata": {
        "id": "xdFCT7eu63mn"
      },
      "source": [
        "---"
      ]
    },
    {
      "cell_type": "code",
      "source": [
        "# Montando o Drive\n",
        "from google.colab import drive\n",
        "drive.mount('/content/drive')\n",
        "\n",
        "# Caminho do diretório escolhido\n",
        "path = \"/content/drive/MyDrive/DATA_SCIENCE\"\n",
        "\n",
        "\n",
        "# Leitura do arquivo\n",
        "df = pd.read_csv(path + '/vgsales.csv', sep=',') #df= data frame\n",
        "\n",
        "# Mostrando as 10 primeiras linhas\n",
        "df.head(10)"
      ],
      "metadata": {
        "id": "acdwBH2mMJi0",
        "outputId": "7065d8b6-4026-4890-ac6c-af1ff6fad10f",
        "colab": {
          "base_uri": "https://localhost:8080/",
          "height": 380
        }
      },
      "execution_count": 15,
      "outputs": [
        {
          "output_type": "stream",
          "name": "stdout",
          "text": [
            "Mounted at /content/drive\n"
          ]
        },
        {
          "output_type": "execute_result",
          "data": {
            "text/plain": [
              "   Rank                       Name Platform    Year         Genre Publisher  \\\n",
              "0     1                 Wii Sports      Wii  2006.0        Sports  Nintendo   \n",
              "1     2          Super Mario Bros.      NES  1985.0      Platform  Nintendo   \n",
              "2     3             Mario Kart Wii      Wii  2008.0        Racing  Nintendo   \n",
              "3     4          Wii Sports Resort      Wii  2009.0        Sports  Nintendo   \n",
              "4     5   Pokemon Red/Pokemon Blue       GB  1996.0  Role-Playing  Nintendo   \n",
              "5     6                     Tetris       GB  1989.0        Puzzle  Nintendo   \n",
              "6     7      New Super Mario Bros.       DS  2006.0      Platform  Nintendo   \n",
              "7     8                   Wii Play      Wii  2006.0          Misc  Nintendo   \n",
              "8     9  New Super Mario Bros. Wii      Wii  2009.0      Platform  Nintendo   \n",
              "9    10                  Duck Hunt      NES  1984.0       Shooter  Nintendo   \n",
              "\n",
              "   NA_Sales  EU_Sales  JP_Sales  Other_Sales  Global_Sales  \n",
              "0     41.49     29.02      3.77         8.46         82.74  \n",
              "1     29.08      3.58      6.81         0.77         40.24  \n",
              "2     15.85     12.88      3.79         3.31         35.82  \n",
              "3     15.75     11.01      3.28         2.96         33.00  \n",
              "4     11.27      8.89     10.22         1.00         31.37  \n",
              "5     23.20      2.26      4.22         0.58         30.26  \n",
              "6     11.38      9.23      6.50         2.90         30.01  \n",
              "7     14.03      9.20      2.93         2.85         29.02  \n",
              "8     14.59      7.06      4.70         2.26         28.62  \n",
              "9     26.93      0.63      0.28         0.47         28.31  "
            ],
            "text/html": [
              "\n",
              "  <div id=\"df-a0b57da6-376e-466a-a348-f198bc783229\" class=\"colab-df-container\">\n",
              "    <div>\n",
              "<style scoped>\n",
              "    .dataframe tbody tr th:only-of-type {\n",
              "        vertical-align: middle;\n",
              "    }\n",
              "\n",
              "    .dataframe tbody tr th {\n",
              "        vertical-align: top;\n",
              "    }\n",
              "\n",
              "    .dataframe thead th {\n",
              "        text-align: right;\n",
              "    }\n",
              "</style>\n",
              "<table border=\"1\" class=\"dataframe\">\n",
              "  <thead>\n",
              "    <tr style=\"text-align: right;\">\n",
              "      <th></th>\n",
              "      <th>Rank</th>\n",
              "      <th>Name</th>\n",
              "      <th>Platform</th>\n",
              "      <th>Year</th>\n",
              "      <th>Genre</th>\n",
              "      <th>Publisher</th>\n",
              "      <th>NA_Sales</th>\n",
              "      <th>EU_Sales</th>\n",
              "      <th>JP_Sales</th>\n",
              "      <th>Other_Sales</th>\n",
              "      <th>Global_Sales</th>\n",
              "    </tr>\n",
              "  </thead>\n",
              "  <tbody>\n",
              "    <tr>\n",
              "      <th>0</th>\n",
              "      <td>1</td>\n",
              "      <td>Wii Sports</td>\n",
              "      <td>Wii</td>\n",
              "      <td>2006.0</td>\n",
              "      <td>Sports</td>\n",
              "      <td>Nintendo</td>\n",
              "      <td>41.49</td>\n",
              "      <td>29.02</td>\n",
              "      <td>3.77</td>\n",
              "      <td>8.46</td>\n",
              "      <td>82.74</td>\n",
              "    </tr>\n",
              "    <tr>\n",
              "      <th>1</th>\n",
              "      <td>2</td>\n",
              "      <td>Super Mario Bros.</td>\n",
              "      <td>NES</td>\n",
              "      <td>1985.0</td>\n",
              "      <td>Platform</td>\n",
              "      <td>Nintendo</td>\n",
              "      <td>29.08</td>\n",
              "      <td>3.58</td>\n",
              "      <td>6.81</td>\n",
              "      <td>0.77</td>\n",
              "      <td>40.24</td>\n",
              "    </tr>\n",
              "    <tr>\n",
              "      <th>2</th>\n",
              "      <td>3</td>\n",
              "      <td>Mario Kart Wii</td>\n",
              "      <td>Wii</td>\n",
              "      <td>2008.0</td>\n",
              "      <td>Racing</td>\n",
              "      <td>Nintendo</td>\n",
              "      <td>15.85</td>\n",
              "      <td>12.88</td>\n",
              "      <td>3.79</td>\n",
              "      <td>3.31</td>\n",
              "      <td>35.82</td>\n",
              "    </tr>\n",
              "    <tr>\n",
              "      <th>3</th>\n",
              "      <td>4</td>\n",
              "      <td>Wii Sports Resort</td>\n",
              "      <td>Wii</td>\n",
              "      <td>2009.0</td>\n",
              "      <td>Sports</td>\n",
              "      <td>Nintendo</td>\n",
              "      <td>15.75</td>\n",
              "      <td>11.01</td>\n",
              "      <td>3.28</td>\n",
              "      <td>2.96</td>\n",
              "      <td>33.00</td>\n",
              "    </tr>\n",
              "    <tr>\n",
              "      <th>4</th>\n",
              "      <td>5</td>\n",
              "      <td>Pokemon Red/Pokemon Blue</td>\n",
              "      <td>GB</td>\n",
              "      <td>1996.0</td>\n",
              "      <td>Role-Playing</td>\n",
              "      <td>Nintendo</td>\n",
              "      <td>11.27</td>\n",
              "      <td>8.89</td>\n",
              "      <td>10.22</td>\n",
              "      <td>1.00</td>\n",
              "      <td>31.37</td>\n",
              "    </tr>\n",
              "    <tr>\n",
              "      <th>5</th>\n",
              "      <td>6</td>\n",
              "      <td>Tetris</td>\n",
              "      <td>GB</td>\n",
              "      <td>1989.0</td>\n",
              "      <td>Puzzle</td>\n",
              "      <td>Nintendo</td>\n",
              "      <td>23.20</td>\n",
              "      <td>2.26</td>\n",
              "      <td>4.22</td>\n",
              "      <td>0.58</td>\n",
              "      <td>30.26</td>\n",
              "    </tr>\n",
              "    <tr>\n",
              "      <th>6</th>\n",
              "      <td>7</td>\n",
              "      <td>New Super Mario Bros.</td>\n",
              "      <td>DS</td>\n",
              "      <td>2006.0</td>\n",
              "      <td>Platform</td>\n",
              "      <td>Nintendo</td>\n",
              "      <td>11.38</td>\n",
              "      <td>9.23</td>\n",
              "      <td>6.50</td>\n",
              "      <td>2.90</td>\n",
              "      <td>30.01</td>\n",
              "    </tr>\n",
              "    <tr>\n",
              "      <th>7</th>\n",
              "      <td>8</td>\n",
              "      <td>Wii Play</td>\n",
              "      <td>Wii</td>\n",
              "      <td>2006.0</td>\n",
              "      <td>Misc</td>\n",
              "      <td>Nintendo</td>\n",
              "      <td>14.03</td>\n",
              "      <td>9.20</td>\n",
              "      <td>2.93</td>\n",
              "      <td>2.85</td>\n",
              "      <td>29.02</td>\n",
              "    </tr>\n",
              "    <tr>\n",
              "      <th>8</th>\n",
              "      <td>9</td>\n",
              "      <td>New Super Mario Bros. Wii</td>\n",
              "      <td>Wii</td>\n",
              "      <td>2009.0</td>\n",
              "      <td>Platform</td>\n",
              "      <td>Nintendo</td>\n",
              "      <td>14.59</td>\n",
              "      <td>7.06</td>\n",
              "      <td>4.70</td>\n",
              "      <td>2.26</td>\n",
              "      <td>28.62</td>\n",
              "    </tr>\n",
              "    <tr>\n",
              "      <th>9</th>\n",
              "      <td>10</td>\n",
              "      <td>Duck Hunt</td>\n",
              "      <td>NES</td>\n",
              "      <td>1984.0</td>\n",
              "      <td>Shooter</td>\n",
              "      <td>Nintendo</td>\n",
              "      <td>26.93</td>\n",
              "      <td>0.63</td>\n",
              "      <td>0.28</td>\n",
              "      <td>0.47</td>\n",
              "      <td>28.31</td>\n",
              "    </tr>\n",
              "  </tbody>\n",
              "</table>\n",
              "</div>\n",
              "    <div class=\"colab-df-buttons\">\n",
              "\n",
              "  <div class=\"colab-df-container\">\n",
              "    <button class=\"colab-df-convert\" onclick=\"convertToInteractive('df-a0b57da6-376e-466a-a348-f198bc783229')\"\n",
              "            title=\"Convert this dataframe to an interactive table.\"\n",
              "            style=\"display:none;\">\n",
              "\n",
              "  <svg xmlns=\"http://www.w3.org/2000/svg\" height=\"24px\" viewBox=\"0 -960 960 960\">\n",
              "    <path d=\"M120-120v-720h720v720H120Zm60-500h600v-160H180v160Zm220 220h160v-160H400v160Zm0 220h160v-160H400v160ZM180-400h160v-160H180v160Zm440 0h160v-160H620v160ZM180-180h160v-160H180v160Zm440 0h160v-160H620v160Z\"/>\n",
              "  </svg>\n",
              "    </button>\n",
              "\n",
              "  <style>\n",
              "    .colab-df-container {\n",
              "      display:flex;\n",
              "      gap: 12px;\n",
              "    }\n",
              "\n",
              "    .colab-df-convert {\n",
              "      background-color: #E8F0FE;\n",
              "      border: none;\n",
              "      border-radius: 50%;\n",
              "      cursor: pointer;\n",
              "      display: none;\n",
              "      fill: #1967D2;\n",
              "      height: 32px;\n",
              "      padding: 0 0 0 0;\n",
              "      width: 32px;\n",
              "    }\n",
              "\n",
              "    .colab-df-convert:hover {\n",
              "      background-color: #E2EBFA;\n",
              "      box-shadow: 0px 1px 2px rgba(60, 64, 67, 0.3), 0px 1px 3px 1px rgba(60, 64, 67, 0.15);\n",
              "      fill: #174EA6;\n",
              "    }\n",
              "\n",
              "    .colab-df-buttons div {\n",
              "      margin-bottom: 4px;\n",
              "    }\n",
              "\n",
              "    [theme=dark] .colab-df-convert {\n",
              "      background-color: #3B4455;\n",
              "      fill: #D2E3FC;\n",
              "    }\n",
              "\n",
              "    [theme=dark] .colab-df-convert:hover {\n",
              "      background-color: #434B5C;\n",
              "      box-shadow: 0px 1px 3px 1px rgba(0, 0, 0, 0.15);\n",
              "      filter: drop-shadow(0px 1px 2px rgba(0, 0, 0, 0.3));\n",
              "      fill: #FFFFFF;\n",
              "    }\n",
              "  </style>\n",
              "\n",
              "    <script>\n",
              "      const buttonEl =\n",
              "        document.querySelector('#df-a0b57da6-376e-466a-a348-f198bc783229 button.colab-df-convert');\n",
              "      buttonEl.style.display =\n",
              "        google.colab.kernel.accessAllowed ? 'block' : 'none';\n",
              "\n",
              "      async function convertToInteractive(key) {\n",
              "        const element = document.querySelector('#df-a0b57da6-376e-466a-a348-f198bc783229');\n",
              "        const dataTable =\n",
              "          await google.colab.kernel.invokeFunction('convertToInteractive',\n",
              "                                                    [key], {});\n",
              "        if (!dataTable) return;\n",
              "\n",
              "        const docLinkHtml = 'Like what you see? Visit the ' +\n",
              "          '<a target=\"_blank\" href=https://colab.research.google.com/notebooks/data_table.ipynb>data table notebook</a>'\n",
              "          + ' to learn more about interactive tables.';\n",
              "        element.innerHTML = '';\n",
              "        dataTable['output_type'] = 'display_data';\n",
              "        await google.colab.output.renderOutput(dataTable, element);\n",
              "        const docLink = document.createElement('div');\n",
              "        docLink.innerHTML = docLinkHtml;\n",
              "        element.appendChild(docLink);\n",
              "      }\n",
              "    </script>\n",
              "  </div>\n",
              "\n",
              "\n",
              "<div id=\"df-50f5ee20-c3e2-4aab-82d2-5b9ec28a91e1\">\n",
              "  <button class=\"colab-df-quickchart\" onclick=\"quickchart('df-50f5ee20-c3e2-4aab-82d2-5b9ec28a91e1')\"\n",
              "            title=\"Suggest charts\"\n",
              "            style=\"display:none;\">\n",
              "\n",
              "<svg xmlns=\"http://www.w3.org/2000/svg\" height=\"24px\"viewBox=\"0 0 24 24\"\n",
              "     width=\"24px\">\n",
              "    <g>\n",
              "        <path d=\"M19 3H5c-1.1 0-2 .9-2 2v14c0 1.1.9 2 2 2h14c1.1 0 2-.9 2-2V5c0-1.1-.9-2-2-2zM9 17H7v-7h2v7zm4 0h-2V7h2v10zm4 0h-2v-4h2v4z\"/>\n",
              "    </g>\n",
              "</svg>\n",
              "  </button>\n",
              "\n",
              "<style>\n",
              "  .colab-df-quickchart {\n",
              "      --bg-color: #E8F0FE;\n",
              "      --fill-color: #1967D2;\n",
              "      --hover-bg-color: #E2EBFA;\n",
              "      --hover-fill-color: #174EA6;\n",
              "      --disabled-fill-color: #AAA;\n",
              "      --disabled-bg-color: #DDD;\n",
              "  }\n",
              "\n",
              "  [theme=dark] .colab-df-quickchart {\n",
              "      --bg-color: #3B4455;\n",
              "      --fill-color: #D2E3FC;\n",
              "      --hover-bg-color: #434B5C;\n",
              "      --hover-fill-color: #FFFFFF;\n",
              "      --disabled-bg-color: #3B4455;\n",
              "      --disabled-fill-color: #666;\n",
              "  }\n",
              "\n",
              "  .colab-df-quickchart {\n",
              "    background-color: var(--bg-color);\n",
              "    border: none;\n",
              "    border-radius: 50%;\n",
              "    cursor: pointer;\n",
              "    display: none;\n",
              "    fill: var(--fill-color);\n",
              "    height: 32px;\n",
              "    padding: 0;\n",
              "    width: 32px;\n",
              "  }\n",
              "\n",
              "  .colab-df-quickchart:hover {\n",
              "    background-color: var(--hover-bg-color);\n",
              "    box-shadow: 0 1px 2px rgba(60, 64, 67, 0.3), 0 1px 3px 1px rgba(60, 64, 67, 0.15);\n",
              "    fill: var(--button-hover-fill-color);\n",
              "  }\n",
              "\n",
              "  .colab-df-quickchart-complete:disabled,\n",
              "  .colab-df-quickchart-complete:disabled:hover {\n",
              "    background-color: var(--disabled-bg-color);\n",
              "    fill: var(--disabled-fill-color);\n",
              "    box-shadow: none;\n",
              "  }\n",
              "\n",
              "  .colab-df-spinner {\n",
              "    border: 2px solid var(--fill-color);\n",
              "    border-color: transparent;\n",
              "    border-bottom-color: var(--fill-color);\n",
              "    animation:\n",
              "      spin 1s steps(1) infinite;\n",
              "  }\n",
              "\n",
              "  @keyframes spin {\n",
              "    0% {\n",
              "      border-color: transparent;\n",
              "      border-bottom-color: var(--fill-color);\n",
              "      border-left-color: var(--fill-color);\n",
              "    }\n",
              "    20% {\n",
              "      border-color: transparent;\n",
              "      border-left-color: var(--fill-color);\n",
              "      border-top-color: var(--fill-color);\n",
              "    }\n",
              "    30% {\n",
              "      border-color: transparent;\n",
              "      border-left-color: var(--fill-color);\n",
              "      border-top-color: var(--fill-color);\n",
              "      border-right-color: var(--fill-color);\n",
              "    }\n",
              "    40% {\n",
              "      border-color: transparent;\n",
              "      border-right-color: var(--fill-color);\n",
              "      border-top-color: var(--fill-color);\n",
              "    }\n",
              "    60% {\n",
              "      border-color: transparent;\n",
              "      border-right-color: var(--fill-color);\n",
              "    }\n",
              "    80% {\n",
              "      border-color: transparent;\n",
              "      border-right-color: var(--fill-color);\n",
              "      border-bottom-color: var(--fill-color);\n",
              "    }\n",
              "    90% {\n",
              "      border-color: transparent;\n",
              "      border-bottom-color: var(--fill-color);\n",
              "    }\n",
              "  }\n",
              "</style>\n",
              "\n",
              "  <script>\n",
              "    async function quickchart(key) {\n",
              "      const quickchartButtonEl =\n",
              "        document.querySelector('#' + key + ' button');\n",
              "      quickchartButtonEl.disabled = true;  // To prevent multiple clicks.\n",
              "      quickchartButtonEl.classList.add('colab-df-spinner');\n",
              "      try {\n",
              "        const charts = await google.colab.kernel.invokeFunction(\n",
              "            'suggestCharts', [key], {});\n",
              "      } catch (error) {\n",
              "        console.error('Error during call to suggestCharts:', error);\n",
              "      }\n",
              "      quickchartButtonEl.classList.remove('colab-df-spinner');\n",
              "      quickchartButtonEl.classList.add('colab-df-quickchart-complete');\n",
              "    }\n",
              "    (() => {\n",
              "      let quickchartButtonEl =\n",
              "        document.querySelector('#df-50f5ee20-c3e2-4aab-82d2-5b9ec28a91e1 button');\n",
              "      quickchartButtonEl.style.display =\n",
              "        google.colab.kernel.accessAllowed ? 'block' : 'none';\n",
              "    })();\n",
              "  </script>\n",
              "</div>\n",
              "\n",
              "    </div>\n",
              "  </div>\n"
            ],
            "application/vnd.google.colaboratory.intrinsic+json": {
              "type": "dataframe",
              "variable_name": "df",
              "summary": "{\n  \"name\": \"df\",\n  \"rows\": 16598,\n  \"fields\": [\n    {\n      \"column\": \"Rank\",\n      \"properties\": {\n        \"dtype\": \"number\",\n        \"std\": 4791,\n        \"min\": 1,\n        \"max\": 16600,\n        \"num_unique_values\": 16598,\n        \"samples\": [\n          8930,\n          4791,\n          15495\n        ],\n        \"semantic_type\": \"\",\n        \"description\": \"\"\n      }\n    },\n    {\n      \"column\": \"Name\",\n      \"properties\": {\n        \"dtype\": \"string\",\n        \"num_unique_values\": 11493,\n        \"samples\": [\n          \"Close Combat: First to Fight\",\n          \"Rock 'N Roll Racing\",\n          \"Hakuouki\"\n        ],\n        \"semantic_type\": \"\",\n        \"description\": \"\"\n      }\n    },\n    {\n      \"column\": \"Platform\",\n      \"properties\": {\n        \"dtype\": \"category\",\n        \"num_unique_values\": 31,\n        \"samples\": [\n          \"TG16\",\n          \"2600\",\n          \"SAT\"\n        ],\n        \"semantic_type\": \"\",\n        \"description\": \"\"\n      }\n    },\n    {\n      \"column\": \"Year\",\n      \"properties\": {\n        \"dtype\": \"number\",\n        \"std\": 5.828981114712785,\n        \"min\": 1980.0,\n        \"max\": 2020.0,\n        \"num_unique_values\": 39,\n        \"samples\": [\n          1981.0,\n          1983.0,\n          1996.0\n        ],\n        \"semantic_type\": \"\",\n        \"description\": \"\"\n      }\n    },\n    {\n      \"column\": \"Genre\",\n      \"properties\": {\n        \"dtype\": \"category\",\n        \"num_unique_values\": 12,\n        \"samples\": [\n          \"Adventure\",\n          \"Fighting\",\n          \"Sports\"\n        ],\n        \"semantic_type\": \"\",\n        \"description\": \"\"\n      }\n    },\n    {\n      \"column\": \"Publisher\",\n      \"properties\": {\n        \"dtype\": \"category\",\n        \"num_unique_values\": 578,\n        \"samples\": [\n          \"JoWood Productions\",\n          \"Takuyo\",\n          \"Kamui\"\n        ],\n        \"semantic_type\": \"\",\n        \"description\": \"\"\n      }\n    },\n    {\n      \"column\": \"NA_Sales\",\n      \"properties\": {\n        \"dtype\": \"number\",\n        \"std\": 0.8166830292990428,\n        \"min\": 0.0,\n        \"max\": 41.49,\n        \"num_unique_values\": 409,\n        \"samples\": [\n          1.7,\n          2.97,\n          3.92\n        ],\n        \"semantic_type\": \"\",\n        \"description\": \"\"\n      }\n    },\n    {\n      \"column\": \"EU_Sales\",\n      \"properties\": {\n        \"dtype\": \"number\",\n        \"std\": 0.5053512312869366,\n        \"min\": 0.0,\n        \"max\": 29.02,\n        \"num_unique_values\": 305,\n        \"samples\": [\n          1.15,\n          0.98,\n          2.25\n        ],\n        \"semantic_type\": \"\",\n        \"description\": \"\"\n      }\n    },\n    {\n      \"column\": \"JP_Sales\",\n      \"properties\": {\n        \"dtype\": \"number\",\n        \"std\": 0.30929064808213236,\n        \"min\": 0.0,\n        \"max\": 10.22,\n        \"num_unique_values\": 244,\n        \"samples\": [\n          0.47,\n          6.5,\n          2.1\n        ],\n        \"semantic_type\": \"\",\n        \"description\": \"\"\n      }\n    },\n    {\n      \"column\": \"Other_Sales\",\n      \"properties\": {\n        \"dtype\": \"number\",\n        \"std\": 0.18858840291278392,\n        \"min\": 0.0,\n        \"max\": 10.57,\n        \"num_unique_values\": 157,\n        \"samples\": [\n          0.38,\n          0.23,\n          0.48\n        ],\n        \"semantic_type\": \"\",\n        \"description\": \"\"\n      }\n    },\n    {\n      \"column\": \"Global_Sales\",\n      \"properties\": {\n        \"dtype\": \"number\",\n        \"std\": 1.5550279355699022,\n        \"min\": 0.01,\n        \"max\": 82.74,\n        \"num_unique_values\": 623,\n        \"samples\": [\n          3.91,\n          0.65,\n          5.11\n        ],\n        \"semantic_type\": \"\",\n        \"description\": \"\"\n      }\n    }\n  ]\n}"
            }
          },
          "metadata": {},
          "execution_count": 15
        }
      ]
    },
    {
      "cell_type": "code",
      "source": [
        "# Exercicio 1\n",
        "\n",
        "# Agrupar por gênero e somar as vendas globais\n",
        "genre_sales = df.groupby(\"Genre\")[\"Global_Sales\"].sum()\n",
        "\n",
        "# Encontrar o gênero com maior volume de vendas\n",
        "top_genre = genre_sales.idxmax()\n",
        "top_sales = genre_sales.max()\n",
        "\n",
        "print(f\"Gênero com maior volume de vendas globais: {top_genre} ({top_sales:.2f} milhões)\")"
      ],
      "metadata": {
        "id": "IqzutdDrNTzM",
        "outputId": "3a8d38f6-3e51-4a3a-ec88-c94f02063bf3",
        "colab": {
          "base_uri": "https://localhost:8080/"
        }
      },
      "execution_count": 16,
      "outputs": [
        {
          "output_type": "stream",
          "name": "stdout",
          "text": [
            "Gênero com maior volume de vendas globais: Action (1751.18 milhões)\n"
          ]
        }
      ]
    },
    {
      "cell_type": "code",
      "source": [
        "# Exercicio 2\n",
        "\n",
        "# Agrupar por plataforma e calcular a média das vendas na América do Norte\n",
        "platform_avg_na = df.groupby(\"Platform\")[\"NA_Sales\"].mean()\n",
        "\n",
        "# Obter as 5 plataformas com maior média\n",
        "top_5_platforms = platform_avg_na.sort_values(ascending=False).head(5)\n",
        "\n",
        "print(\"Top 5 plataformas com maior média de vendas na América do Norte:\")\n",
        "print(top_5_platforms)"
      ],
      "metadata": {
        "id": "XRV4dpkkN4HM",
        "outputId": "5df0d9fd-3c9c-4131-d10e-6bb3d38f18f7",
        "colab": {
          "base_uri": "https://localhost:8080/"
        }
      },
      "execution_count": 17,
      "outputs": [
        {
          "output_type": "stream",
          "name": "stdout",
          "text": [
            "Top 5 plataformas com maior média de vendas na América do Norte:\n",
            "Platform\n",
            "NES     1.285102\n",
            "GB      1.166531\n",
            "GEN     0.713704\n",
            "2600    0.681203\n",
            "X360    0.475138\n",
            "Name: NA_Sales, dtype: float64\n"
          ]
        }
      ]
    },
    {
      "cell_type": "code",
      "source": [
        "# Exercicio 3\n",
        "\n",
        "# Filtrar os dados entre os anos de 2000 e 2010\n",
        "df_filtered = df[(df[\"Year\"] >= 2000) & (df[\"Year\"] <= 2010)]\n",
        "\n",
        "# Contar o número de jogos por publisher\n",
        "publisher_counts = df_filtered[\"Publisher\"].value_counts()\n",
        "\n",
        "# Encontrar o publisher com maior número de jogos\n",
        "top_publisher = publisher_counts.idxmax() #pega o nome do publisher max\n",
        "top_count = publisher_counts.max() #pega o valor maximo\n",
        "\n",
        "print(f\"Publisher com mais jogos entre 2000 e 2010: {top_publisher} ({top_count} jogos)\")\n"
      ],
      "metadata": {
        "id": "bPcsqXW1N_IM",
        "outputId": "1ecff8e4-e209-476d-ebea-9394efacd0d4",
        "colab": {
          "base_uri": "https://localhost:8080/"
        }
      },
      "execution_count": 18,
      "outputs": [
        {
          "output_type": "stream",
          "name": "stdout",
          "text": [
            "Publisher com mais jogos entre 2000 e 2010: Electronic Arts (979 jogos)\n"
          ]
        }
      ]
    },
    {
      "cell_type": "code",
      "source": [
        "#Exercicio 4\n",
        "\n",
        "# Calcular a média de vendas no Japão por gênero\n",
        "jp_sales_by_genre = df.groupby(\"Genre\")[\"JP_Sales\"].mean().sort_values(ascending=False) #false é do maior para o menor\n",
        "\n",
        "print(\"Média de vendas no Japão por gênero:\")\n",
        "print(jp_sales_by_genre)\n"
      ],
      "metadata": {
        "id": "vgWvtbabOCMs",
        "outputId": "d69d95f7-4e9a-484f-9ac7-3ed5aa2d9ed0",
        "colab": {
          "base_uri": "https://localhost:8080/"
        }
      },
      "execution_count": 19,
      "outputs": [
        {
          "output_type": "stream",
          "name": "stdout",
          "text": [
            "Média de vendas no Japão por gênero:\n",
            "Genre\n",
            "Role-Playing    0.236767\n",
            "Platform        0.147596\n",
            "Fighting        0.103007\n",
            "Puzzle          0.098471\n",
            "Simulation      0.073472\n",
            "Strategy        0.072628\n",
            "Misc            0.061967\n",
            "Sports          0.057702\n",
            "Action          0.048236\n",
            "Racing          0.045388\n",
            "Adventure       0.040490\n",
            "Shooter         0.029221\n",
            "Name: JP_Sales, dtype: float64\n"
          ]
        }
      ]
    }
  ],
  "metadata": {
    "colab": {
      "provenance": []
    },
    "kernelspec": {
      "display_name": "base",
      "language": "python",
      "name": "python3"
    },
    "language_info": {
      "codemirror_mode": {
        "name": "ipython",
        "version": 3
      },
      "file_extension": ".py",
      "mimetype": "text/x-python",
      "name": "python",
      "nbconvert_exporter": "python",
      "pygments_lexer": "ipython3",
      "version": "3.11.7"
    }
  },
  "nbformat": 4,
  "nbformat_minor": 0
}