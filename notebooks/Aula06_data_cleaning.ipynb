{
  "cells": [
    {
      "cell_type": "markdown",
      "metadata": {
        "id": "jwmw0Y0r3oc-"
      },
      "source": [
        "# Análise de Dados: Data Cleaning com a base Pima Indians Diabetes\n",
        "\n",
        "Este notebook tem como objetivo ensinar as etapas de limpeza de dados (Data Cleaning) utilizando a base de dados `pima-indians-diabetes.data.csv`."
      ],
      "id": "jwmw0Y0r3oc-"
    },
    {
      "cell_type": "markdown",
      "source": [
        "## Pima Indians Diabetes\n",
        "\n",
        "A base de dados **Pima Indians Diabetes** é um conjunto de dados clássico da área de saúde, frequentemente utilizado em estudos estatísticos e científicos para análise exploratória e aprendizado de máquina. Seu objetivo é estudar fatores associados ao diagnóstico de diabetes tipo 2 em mulheres de origem indígena Pima, que vivem no Arizona (EUA).\n",
        "\n",
        "---\n",
        "\n",
        "### Origem da Base\n",
        "\n",
        "A base foi disponibilizada pelo **National Institute of Diabetes and Digestive and Kidney Diseases (NIDDK)** e tornou-se amplamente conhecida por meio do repositório do **UCI Machine Learning Repository**:\n",
        "\n",
        "🔗 https://archive.ics.uci.edu/ml/datasets/pima+indians+diabetes\n",
        "\n",
        "---\n",
        "\n",
        "### Descrição das Variáveis\n",
        "\n",
        "A base contém **768 observações** com **8 variáveis preditoras** e **1 variável alvo**, todas relacionadas a exames médicos ou condições de saúde. Todas as pacientes são **mulheres com 21 anos ou mais**.\n",
        "\n",
        "| Variável                | Tradução                           | Descrição                                                                 |\n",
        "|------------------------|------------------------------------|---------------------------------------------------------------------------|\n",
        "| `Pregnancies`          | Gravidezes                         | Número de vezes que a paciente esteve grávida                            |\n",
        "| `Glucose`              | Glicose                            | Concentração de glicose no plasma em jejum                               |\n",
        "| `BloodPressure`        | Pressão Arterial                   | Pressão arterial diastólica (mm Hg)                                      |\n",
        "| `SkinThickness`        | Espessura da Pele                  | Espessura da dobra cutânea do tríceps (mm)                               |\n",
        "| `Insulin`              | Insulina                           | Nível de insulina sérica em 2h após refeição (mu U/ml)                   |\n",
        "| `BMI`                  | IMC                                | Índice de massa corporal (peso em kg / altura² em m²)                    |\n",
        "| `DiabetesPedigreeFunction` | Histórico Familiar             | Função que expressa a probabilidade de diabetes com base no histórico familiar |\n",
        "| `Age`                  | Idade                              | Idade da paciente (anos)                                                 |\n",
        "| `Outcome`              | Diagnóstico                        | 0 = Não diabética, 1 = Diabética                                         |\n",
        "\n",
        "---\n",
        "\n",
        "### Observações importantes\n",
        "\n",
        "- Alguns valores **zero** nas variáveis `Glucose`, `BloodPressure`, `SkinThickness`, `Insulin` e `BMI` são considerados **inconsistências ou dados ausentes**, pois clinicamente não fazem sentido.\n",
        "- A variável `Outcome` é binária e representa a **presença (1)** ou **ausência (0)** de diabetes tipo 2.\n",
        "\n",
        "---\n",
        "\n",
        "Esta base é amplamente usada para praticar **data cleaning**, análise descritiva e exploração de relações entre variáveis de saúde.\n"
      ],
      "metadata": {
        "id": "LVPLPCHgJaLA"
      },
      "id": "LVPLPCHgJaLA"
    },
    {
      "cell_type": "code",
      "execution_count": 9,
      "metadata": {
        "id": "1vRTf-IV3odH"
      },
      "outputs": [],
      "source": [
        "import pandas as pd\n",
        "import numpy as np\n",
        "import matplotlib.pyplot as plt\n",
        "import seaborn as sns"
      ],
      "id": "1vRTf-IV3odH"
    },
    {
      "cell_type": "code",
      "execution_count": null,
      "metadata": {
        "id": "edltgb9P3odL"
      },
      "outputs": [],
      "source": [
        "# Carregamento dos dados\n",
        "\n",
        "column_names = [\n",
        "    'Pregnancies', 'Glucose', 'BloodPressure', 'SkinThickness',\n",
        "    'Insulin', 'BMI', 'DiabetesPedigreeFunction', 'Age', 'Outcome'\n",
        "]\n",
        "df = pd.read_csv(\"/kaggle/input/pima-indians-diabetes-database/diabetes.csv\", names=column_names, header=0)\n",
        "df.head()"
      ],
      "id": "edltgb9P3odL"
    },
    {
      "cell_type": "markdown",
      "metadata": {
        "id": "jcBb1ccO3odN"
      },
      "source": [
        "## 1. Verificando a estrutura dos dados"
      ],
      "id": "jcBb1ccO3odN"
    },
    {
      "cell_type": "code",
      "execution_count": null,
      "metadata": {
        "id": "LF2M12m93odO"
      },
      "outputs": [],
      "source": [
        "df.info()"
      ],
      "id": "LF2M12m93odO"
    },
    {
      "cell_type": "markdown",
      "source": [
        "### **Quantos atributos (variáveis) e quantas entradas o nosso conjunto de dados possui? Quais os tipos das variáveis?**"
      ],
      "metadata": {
        "id": "oe-p2yM-76Sf"
      },
      "id": "oe-p2yM-76Sf"
    },
    {
      "cell_type": "code",
      "source": [
        "print(f'O dataset possui {df.shape[0]} entradas (registros) e {df.shape[1]} atributos (variáveis).')\n",
        "\n",
        "# Tipos de dados dos atributos\n",
        "print(f'\\nOs tipos dos atributos são do tipo:\\n{df.dtypes}')"
      ],
      "metadata": {
        "id": "v9C3vUGx75GW"
      },
      "id": "v9C3vUGx75GW",
      "execution_count": null,
      "outputs": []
    },
    {
      "cell_type": "markdown",
      "source": [
        "### **Qual a porcentagem de valores ausentes no *dataset*?**"
      ],
      "metadata": {
        "id": "hKNTXJpD8Mi9"
      },
      "id": "hKNTXJpD8Mi9"
    },
    {
      "cell_type": "code",
      "source": [
        "print(f'As variáveis com mais dados faltantes, em porcentagem (%), são:\\n')\n",
        "((df.isnull().sum() / df.shape[0])*100).sort_values(ascending=False)"
      ],
      "metadata": {
        "id": "AxxrlWbT8MvR"
      },
      "id": "AxxrlWbT8MvR",
      "execution_count": null,
      "outputs": []
    },
    {
      "cell_type": "markdown",
      "source": [
        "### **Qual o tipo de distribuição das variáveis?**"
      ],
      "metadata": {
        "id": "1O9jw5oe8nWB"
      },
      "id": "1O9jw5oe8nWB"
    },
    {
      "cell_type": "code",
      "source": [
        "df.hist(bins=15, figsize=(20,16));"
      ],
      "metadata": {
        "id": "nN8nNMsW8qc4"
      },
      "id": "nN8nNMsW8qc4",
      "execution_count": null,
      "outputs": []
    },
    {
      "cell_type": "markdown",
      "metadata": {
        "id": "OWA4BBIt3odP"
      },
      "source": [
        "## 2. Estatísticas descritivas iniciais"
      ],
      "id": "OWA4BBIt3odP"
    },
    {
      "cell_type": "code",
      "execution_count": null,
      "metadata": {
        "id": "q68-ZqDp3odQ"
      },
      "outputs": [],
      "source": [
        "df.describe()"
      ],
      "id": "q68-ZqDp3odQ"
    },
    {
      "cell_type": "markdown",
      "metadata": {
        "id": "N02QYYTs3odR"
      },
      "source": [
        "## 3. Verificando valores ausentes ou inválidos\n",
        "Na base, alguns campos têm o valor **0** que pode indicar ausência de medição (por exemplo, pressão arterial = 0). Vamos verificar esses casos."
      ],
      "id": "N02QYYTs3odR"
    },
    {
      "cell_type": "code",
      "source": [
        "cols_with_zeros = ['Glucose', 'BloodPressure', 'SkinThickness', 'Insulin', 'BMI']\n",
        "for col in cols_with_zeros:\n",
        "    print(f\"{col} - Total de zeros: { (df[col] == 0).sum() }\")"
      ],
      "metadata": {
        "id": "TTFUXmzPQueb"
      },
      "id": "TTFUXmzPQueb",
      "execution_count": null,
      "outputs": []
    },
    {
      "cell_type": "code",
      "execution_count": null,
      "metadata": {
        "id": "Ww6GXxoc3odS"
      },
      "outputs": [],
      "source": [
        "# Substituindo zeros por NaN e contando os valores ausentes\n",
        "df[cols_with_zeros] = df[cols_with_zeros].replace(0, np.nan)\n",
        "df.isnull().sum()"
      ],
      "id": "Ww6GXxoc3odS"
    },
    {
      "cell_type": "markdown",
      "metadata": {
        "id": "bTL-CHoV3odU"
      },
      "source": [
        "## 4. Imputação de valores ausentes com a mediana (Usar com atenção)"
      ],
      "id": "bTL-CHoV3odU"
    },
    {
      "cell_type": "code",
      "execution_count": null,
      "metadata": {
        "id": "gkmUOews3odU"
      },
      "outputs": [],
      "source": [
        "df.fillna(df.median(), inplace=True)\n",
        "df.isnull().sum()\n",
        "\n",
        "#Remover dados nulos\n",
        "#df.dropna(inplace=True)"
      ],
      "id": "gkmUOews3odU"
    },
    {
      "cell_type": "markdown",
      "metadata": {
        "id": "sDcowbkc3odV"
      },
      "source": [
        "## 6. Visualizando distribuições e outliers"
      ],
      "id": "sDcowbkc3odV"
    },
    {
      "cell_type": "code",
      "execution_count": null,
      "metadata": {
        "id": "SryHsSbN3odV"
      },
      "outputs": [],
      "source": [
        "plt.figure(figsize=(12, 8))\n",
        "df.boxplot()\n",
        "plt.title(\"Boxplots das variáveis com valores ausentes tratados\")\n",
        "plt.show()"
      ],
      "id": "SryHsSbN3odV"
    },
    {
      "cell_type": "markdown",
      "source": [
        "## O que é IQR (Interquartile Range)?\n",
        "\n",
        "O **IQR**, ou **Intervalo Interquartil**, é uma medida estatística de dispersão que descreve a faixa central de um conjunto de dados. Ele é útil especialmente para detectar **valores discrepantes (outliers)**, pois é **resistente a valores extremos**.\n",
        "\n",
        "O IQR é calculado como a diferença entre o terceiro quartil (Q3) e o primeiro quartil (Q1):\n",
        "\n",
        "\\[\n",
        "**IQR** = Q3 - Q1\n",
        "\\]\n",
        "\n",
        "- **Q1 (1º Quartil)**: 25% dos dados estão abaixo desse valor.\n",
        "- **Q3 (3º Quartil)**: 75% dos dados estão abaixo desse valor.\n",
        "- **IQR** representa os 50% centrais dos dados.\n",
        "\n",
        "---\n",
        "\n",
        "## Como interpretar o IQR?\n",
        "\n",
        "O IQR serve como base para identificar possíveis **outliers**. Valores são considerados outliers se estiverem **muito abaixo de Q1 ou muito acima de Q3**, fora do intervalo definido por:\n",
        "\n",
        "- **Limite Inferior**:  \n",
        "  \\[\n",
        "  Q1 - 1.5 * IQR\n",
        "  \\]\n",
        "- **Limite Superior**:  \n",
        "  \\[\n",
        "  Q3 + 1.5 * IQR\n",
        "  \\]\n",
        "\n",
        "Qualquer dado que esteja **fora desses limites** é considerado um possível outlier.\n",
        "\n",
        "---\n",
        "\n",
        "## Vantagens do uso do IQR\n",
        "\n",
        "- **Não depende da distribuição dos dados** (diferente do uso de média e desvio padrão).\n",
        "- **Menos sensível a valores extremos**, tornando-o mais robusto.\n"
      ],
      "metadata": {
        "id": "dAM5NiGO9KMS"
      },
      "id": "dAM5NiGO9KMS"
    },
    {
      "cell_type": "code",
      "source": [
        "def detectar_outliers_iqr(coluna):\n",
        "    Q1 = df[coluna].quantile(0.25)\n",
        "    Q3 = df[coluna].quantile(0.75)\n",
        "    IQR = Q3 - Q1\n",
        "    limite_inferior = Q1 - 1.5 * IQR\n",
        "    limite_superior = Q3 + 1.5 * IQR\n",
        "    outliers = df[(df[coluna] < limite_inferior) | (df[coluna] > limite_superior)]\n",
        "    return outliers\n",
        "\n",
        "outliers_insulin = detectar_outliers_iqr('Insulin')\n",
        "\n",
        "print(outliers_insulin)\n",
        "\n",
        "#remover outliers\n",
        "#df = df.drop(outliers_insulin.index)"
      ],
      "metadata": {
        "id": "so4fN02R-DB8"
      },
      "id": "so4fN02R-DB8",
      "execution_count": null,
      "outputs": []
    },
    {
      "cell_type": "markdown",
      "source": [
        "# Questão\n",
        "\n",
        "- Devo remover os outliers?"
      ],
      "metadata": {
        "id": "mX7wPY8BDYDb"
      },
      "id": "mX7wPY8BDYDb"
    }
  ],
  "metadata": {
    "kernelspec": {
      "display_name": "Python 3",
      "language": "python",
      "name": "python3"
    },
    "language_info": {
      "name": "python",
      "version": "3.10"
    },
    "colab": {
      "provenance": []
    }
  },
  "nbformat": 4,
  "nbformat_minor": 5
}
