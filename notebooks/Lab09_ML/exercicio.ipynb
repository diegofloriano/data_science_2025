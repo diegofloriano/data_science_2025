{
 "cells": [
  {
   "cell_type": "markdown",
   "id": "ecad5a4a",
   "metadata": {},
   "source": [
    "# Exercício de Regressão: Predição de Ruído de Aeroflóquio\n",
    "\n",
    "## Objetivo\n",
    "Prever o nível de ruído (em decibéis) gerado por aeroflóquios com base em características aerodinâmicas, utilizando diferentes modelos de machine learning.\n",
    "\n",
    "## Base de Dados: `airfoil_self_noise`\n",
    "Dataset disponível no OpenML com medições experimentais de ruído em aeroflóquios da NASA.\n",
    "\n",
    "### Dicionário de Atributos (Traduzido)\n",
    "| Nome Original       | Descrição em Português                     | Unidade/Tipo   |\n",
    "|---------------------|-------------------------------------------|---------------|\n",
    "| Frequency           | Frequência do som                         | Hertz (Hz)    |\n",
    "| Angle_of_Attack     | Ângulo de ataque da asa                   | Graus (°)     |\n",
    "| Chord_Length        | Comprimento da corda aerodinâmica         | Metros (m)    |\n",
    "| Free_Velocity       | Velocidade do fluxo de ar livre           | Metros/segundo (m/s) |\n",
    "| Suction_Side        | Espessura da camada de sucção/displacamento | Metros (m)    |\n",
    "| Scaled_Sound        | Nível de pressão sonora escalonado (target)| Decibéis (dB) |"
   ]
  },
  {
   "cell_type": "code",
   "execution_count": 2,
   "id": "bfc604c2",
   "metadata": {},
   "outputs": [],
   "source": [
    "airfoil = fetch_openml(name='airfoil_self_noise', version=1, as_frame=True, parser='pandas')\n",
    "X = airfoil.data\n",
    "y = airfoil.target.astype(float)"
   ]
  }
 ],
 "metadata": {
  "kernelspec": {
   "display_name": "aulas_pos",
   "language": "python",
   "name": "python3"
  },
  "language_info": {
   "codemirror_mode": {
    "name": "ipython",
    "version": 3
   },
   "file_extension": ".py",
   "mimetype": "text/x-python",
   "name": "python",
   "nbconvert_exporter": "python",
   "pygments_lexer": "ipython3",
   "version": "3.11.8"
  }
 },
 "nbformat": 4,
 "nbformat_minor": 5
}
