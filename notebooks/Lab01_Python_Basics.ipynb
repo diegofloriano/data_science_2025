{
  "cells": [
    {
      "cell_type": "markdown",
      "metadata": {
        "id": "Pa5xRkQasQuC"
      },
      "source": [
        "### Introdução à Linguagem Python e suas Estruturas Básicas"
      ]
    },
    {
      "cell_type": "code",
      "execution_count": 2,
      "metadata": {
        "colab": {
          "base_uri": "https://localhost:8080/"
        },
        "id": "oAvI2HZBsQuD",
        "outputId": "3d36e4c4-606f-4f56-8af2-167320f214ab"
      },
      "outputs": [
        {
          "output_type": "stream",
          "name": "stdout",
          "text": [
            "Python é uma linguagem de programação de alto nivel, interpretada e de tipagem dinâmica\n",
            "Valor da variavel var_1 = (var_1)\n"
          ]
        }
      ],
      "source": [
        "# 1. Introdução\n",
        "\n",
        "print(\"Python é uma linguagem de programação de alto nivel, interpretada e de tipagem dinâmica\")\n",
        "\n",
        "var_1 = 2.36\n",
        "var_2 = 12\n",
        "\n",
        "print(f\"Valor da variavel var_1 = (var_1)\")"
      ]
    },
    {
      "cell_type": "code",
      "source": [
        "# Variaveis e tipos de Dados\n",
        "inteiro = 10\n",
        "flutuante = 10.5\n",
        "texto = \"Ola mundo\"\n",
        "booleano = True\n",
        "\n"
      ],
      "metadata": {
        "id": "K3hGE9_-uQY_"
      },
      "execution_count": null,
      "outputs": []
    },
    {
      "cell_type": "code",
      "source": [
        "# Estruturas Condicionais\n",
        "numero = 7\n",
        "\n",
        "if numero % 2 == 0:\n",
        "  print(f\"O numero (numero) é par\")\n",
        "elif numero > 10:\n",
        "  print(f\"O numero (numero) é maior que 10\")\n",
        "else\n",
        "  print(f\"O numero (numero) é impar\")\n"
      ],
      "metadata": {
        "id": "ldlV1vwEuqem"
      },
      "execution_count": null,
      "outputs": []
    },
    {
      "cell_type": "code",
      "source": [
        "# Estruturas de Repetição\n",
        "print(\"Contando de 1 a 5 usando for:\")\n",
        "\n",
        "for i in range(1, 6):\n",
        "  print(1)\n",
        "\n",
        "print(\"\\nContando de 0 a 9 usando while:\")\n",
        "contador = 0\n",
        "\n",
        "while contador < 10:\n",
        "  print(contador)\n",
        "  contador += 1"
      ],
      "metadata": {
        "colab": {
          "base_uri": "https://localhost:8080/"
        },
        "id": "MmC_2X6Xvmsm",
        "outputId": "d306f67d-aeec-49ca-bca9-13e808ac93b2"
      },
      "execution_count": 3,
      "outputs": [
        {
          "output_type": "stream",
          "name": "stdout",
          "text": [
            "Contando de 1 a 5 usando for:\n",
            "1\n",
            "1\n",
            "1\n",
            "1\n",
            "1\n",
            "\n",
            "Contando de 0 a 9 usando while:\n",
            "0\n",
            "1\n",
            "2\n",
            "3\n",
            "4\n",
            "5\n",
            "6\n",
            "7\n",
            "8\n",
            "9\n"
          ]
        }
      ]
    },
    {
      "cell_type": "code",
      "source": [
        "# Listas\n",
        "lista = [1, 2, 3, 4, 5]\n",
        "print(\"Lista original\", lista)\n",
        "lista.append(6)\n",
        "print(\"Lista após append:\", lista)\n",
        "\n",
        "print(\"Posição de número 2 da lista:\", lista[1])\n",
        "\n",
        "lista.pop(2)\n",
        "print(\"Lista após POP:\", lista)\n",
        "\n",
        "lista.insert(2, 3)\n",
        "print(\"Lista após INSERT:\", lista)\n",
        "\n",
        "print(\"Tamanho da lista:\", len(lista))\n",
        "\n",
        "print(\"Soma os itens da lista:\", sum(lista))\n",
        "\n",
        "print( 55 in lista)\n",
        "\n",
        "# Concatenar lista\n",
        "lista.extend([7, 8, 9])\n",
        "print(\"Lista após EXTEND:\", lista)\n",
        "\n",
        "a, b = [1, 2]\n",
        "print(a)\n",
        "print(b)\n"
      ],
      "metadata": {
        "colab": {
          "base_uri": "https://localhost:8080/"
        },
        "id": "xl4aWqkdwjmG",
        "outputId": "241172ff-7b13-46c0-a703-1963c2f1370c"
      },
      "execution_count": 10,
      "outputs": [
        {
          "output_type": "stream",
          "name": "stdout",
          "text": [
            "Lista original [1, 2, 3, 4, 5]\n",
            "Lista após append: [1, 2, 3, 4, 5, 6]\n",
            "Posição de número 2 da lista: 2\n",
            "Lista após POP: [1, 2, 4, 5, 6]\n",
            "Lista após INSERT: [1, 2, 3, 4, 5, 6]\n",
            "Tamanho da lista: 6\n",
            "Soma os itens da lista: 21\n",
            "False\n",
            "Lista após EXTEND: [1, 2, 3, 4, 5, 6, 7, 8, 9]\n",
            "1\n",
            "2\n"
          ]
        }
      ]
    },
    {
      "cell_type": "code",
      "source": [
        "# Dicionarios\n",
        "\n",
        "dicionario = {\"nome\": \"Alice\", \"Idade\": 25, \"cidade\": \"São Paulo\"}\n",
        "print(\"Dicionario original:\", dicionario)\n",
        "\n",
        "print(dicionario[\"nome\"])\n",
        "\n",
        "dicionario[\"Idade\"]=26\n",
        "print(\"Dicionario após UPDATE:\", dicionario)"
      ],
      "metadata": {
        "id": "WvKwE5LuzKFF"
      },
      "execution_count": null,
      "outputs": []
    },
    {
      "cell_type": "markdown",
      "source": [
        "#funcoes\n",
        "def saudacao(nome):\n",
        "  print(f\"O\n",
        "\n",
        "```\n",
        "# Isto` está formatado como código`\n",
        "```\n",
        "\n",
        "lá, {nome}!\")\n",
        "\n",
        "saudacao(\"Alice\")\n",
        "\n",
        "def my_print(message = \"Hello World\"):\n",
        "  return message\n",
        "\n",
        "saudacao(my_print(\"João\"))"
      ],
      "metadata": {
        "id": "n5qbVz7574W2"
      }
    },
    {
      "cell_type": "code",
      "source": [
        "#Exceções\n",
        "\n",
        "try:\n",
        "  print(0/0)\n",
        "except:\n",
        "  print(\"Divisão por zero\")\n",
        "\n",
        "  print(0 ** 0)\n",
        "  print(0 ** 0)\n",
        "  print(0 ** 0)\n",
        "  print(0 ** 0)\n",
        "\n"
      ],
      "metadata": {
        "id": "IVDp8Pct8uq8"
      },
      "execution_count": null,
      "outputs": []
    },
    {
      "cell_type": "code",
      "source": [
        "# Valores Nulos\n",
        "\n",
        "u = None\n",
        "\n",
        "print(u is None)\n",
        "\n",
        "print(u == None)# Não é correto\n"
      ],
      "metadata": {
        "id": "gagMDw6G-WAU",
        "outputId": "82ded4c6-2de2-401c-fb5a-8a7fb94df982",
        "colab": {
          "base_uri": "https://localhost:8080/"
        }
      },
      "execution_count": 13,
      "outputs": [
        {
          "output_type": "stream",
          "name": "stdout",
          "text": [
            "True\n",
            "True\n"
          ]
        }
      ]
    },
    {
      "cell_type": "code",
      "source": [
        "# Classe e Objetos\n",
        "\n",
        "class Pessoa:\n",
        "  def __init__(self, nome, idade):\n",
        "    self.nome = nome\n",
        "    self.idade = idade\n",
        "\n",
        "  def apresentar(self):\n",
        "    print(f\"Olá, meu nome é {self.nome} e tenho {self.idade} anos.\")\n",
        "\n",
        "pessoa = Pessoa(\"Alice\", 25)\n",
        "print(pessoa.apresentar())"
      ],
      "metadata": {
        "id": "zmj4N0Mn--Gj"
      },
      "execution_count": null,
      "outputs": []
    },
    {
      "cell_type": "code",
      "source": [
        "# EXERCICIO 1\n",
        "\n"
      ],
      "metadata": {
        "id": "dX4c5bjWBVcS"
      },
      "execution_count": null,
      "outputs": []
    },
    {
      "cell_type": "code",
      "source": [
        "# EXERCICIO 2\n",
        "\n",
        "\n"
      ],
      "metadata": {
        "id": "g9hRgt-BBYHw"
      },
      "execution_count": null,
      "outputs": []
    }
  ],
  "metadata": {
    "kernelspec": {
      "display_name": "aulas_pos",
      "language": "python",
      "name": "python3"
    },
    "language_info": {
      "codemirror_mode": {
        "name": "ipython",
        "version": 3
      },
      "file_extension": ".py",
      "mimetype": "text/x-python",
      "name": "python",
      "nbconvert_exporter": "python",
      "pygments_lexer": "ipython3",
      "version": "3.11.8"
    },
    "colab": {
      "provenance": []
    }
  },
  "nbformat": 4,
  "nbformat_minor": 0
}