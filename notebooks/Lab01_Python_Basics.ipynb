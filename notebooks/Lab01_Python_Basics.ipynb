{
  "cells": [
    {
      "cell_type": "markdown",
      "metadata": {
        "id": "Pa5xRkQasQuC"
      },
      "source": [
        "### Introdução à Linguagem Python e suas Estruturas Básicas"
      ]
    },
    {
      "cell_type": "code",
      "execution_count": null,
      "metadata": {
        "colab": {
          "base_uri": "https://localhost:8080/"
        },
        "id": "oAvI2HZBsQuD",
        "outputId": "3d36e4c4-606f-4f56-8af2-167320f214ab"
      },
      "outputs": [
        {
          "output_type": "stream",
          "name": "stdout",
          "text": [
            "Python é uma linguagem de programação de alto nivel, interpretada e de tipagem dinâmica\n",
            "Valor da variavel var_1 = (var_1)\n"
          ]
        }
      ],
      "source": [
        "# 1. Introdução\n",
        "\n",
        "print(\"Python é uma linguagem de programação de alto nivel, interpretada e de tipagem dinâmica\")\n",
        "\n",
        "var_1 = 2.36\n",
        "var_2 = 12\n",
        "\n",
        "print(f\"Valor da variavel var_1 = (var_1)\")"
      ]
    },
    {
      "cell_type": "code",
      "source": [
        "# Variaveis e tipos de Dados\n",
        "inteiro = 10\n",
        "flutuante = 10.5\n",
        "texto = \"Ola mundo\"\n",
        "booleano = True\n",
        "\n"
      ],
      "metadata": {
        "id": "K3hGE9_-uQY_"
      },
      "execution_count": null,
      "outputs": []
    },
    {
      "cell_type": "code",
      "source": [
        "# Estruturas Condicionais\n",
        "numero = 7\n",
        "\n",
        "if numero % 2 == 0:\n",
        "  print(f\"O numero (numero) é par\")\n",
        "elif numero > 10:\n",
        "  print(f\"O numero (numero) é maior que 10\")\n",
        "else\n",
        "  print(f\"O numero (numero) é impar\")\n"
      ],
      "metadata": {
        "id": "ldlV1vwEuqem"
      },
      "execution_count": null,
      "outputs": []
    },
    {
      "cell_type": "code",
      "source": [
        "# Estruturas de Repetição\n",
        "print(\"Contando de 1 a 5 usando for:\")\n",
        "\n",
        "for i in range(1, 6):\n",
        "  print(1)\n",
        "\n",
        "print(\"\\nContando de 0 a 9 usando while:\")\n",
        "contador = 0\n",
        "\n",
        "while contador < 10:\n",
        "  print(contador)\n",
        "  contador += 1"
      ],
      "metadata": {
        "colab": {
          "base_uri": "https://localhost:8080/"
        },
        "id": "MmC_2X6Xvmsm",
        "outputId": "d306f67d-aeec-49ca-bca9-13e808ac93b2"
      },
      "execution_count": null,
      "outputs": [
        {
          "output_type": "stream",
          "name": "stdout",
          "text": [
            "Contando de 1 a 5 usando for:\n",
            "1\n",
            "1\n",
            "1\n",
            "1\n",
            "1\n",
            "\n",
            "Contando de 0 a 9 usando while:\n",
            "0\n",
            "1\n",
            "2\n",
            "3\n",
            "4\n",
            "5\n",
            "6\n",
            "7\n",
            "8\n",
            "9\n"
          ]
        }
      ]
    },
    {
      "cell_type": "code",
      "source": [
        "# Listas\n",
        "lista = [1, 2, 3, 4, 5]\n",
        "print(\"Lista original\", lista)\n",
        "lista.append(6)\n",
        "print(\"Lista após append:\", lista)\n",
        "\n",
        "print(\"Posição de número 2 da lista:\", lista[1])\n",
        "\n",
        "lista.pop(2)\n",
        "print(\"Lista após POP:\", lista)\n",
        "\n",
        "lista.insert(2, 3)\n",
        "print(\"Lista após INSERT:\", lista)\n",
        "\n",
        "print(\"Tamanho da lista:\", len(lista))\n",
        "\n",
        "print(\"Soma os itens da lista:\", sum(lista))\n",
        "\n",
        "print( 55 in lista)\n",
        "\n",
        "# Concatenar lista\n",
        "lista.extend([7, 8, 9])\n",
        "print(\"Lista após EXTEND:\", lista)\n",
        "\n",
        "a, b = [1, 2]\n",
        "print(a)\n",
        "print(b)\n"
      ],
      "metadata": {
        "colab": {
          "base_uri": "https://localhost:8080/"
        },
        "id": "xl4aWqkdwjmG",
        "outputId": "241172ff-7b13-46c0-a703-1963c2f1370c"
      },
      "execution_count": null,
      "outputs": [
        {
          "output_type": "stream",
          "name": "stdout",
          "text": [
            "Lista original [1, 2, 3, 4, 5]\n",
            "Lista após append: [1, 2, 3, 4, 5, 6]\n",
            "Posição de número 2 da lista: 2\n",
            "Lista após POP: [1, 2, 4, 5, 6]\n",
            "Lista após INSERT: [1, 2, 3, 4, 5, 6]\n",
            "Tamanho da lista: 6\n",
            "Soma os itens da lista: 21\n",
            "False\n",
            "Lista após EXTEND: [1, 2, 3, 4, 5, 6, 7, 8, 9]\n",
            "1\n",
            "2\n"
          ]
        }
      ]
    },
    {
      "cell_type": "code",
      "source": [
        "# Dicionarios\n",
        "\n",
        "dicionario = {\"nome\": \"Alice\", \"Idade\": 25, \"cidade\": \"São Paulo\"}\n",
        "print(\"Dicionario original:\", dicionario)\n",
        "\n",
        "print(dicionario[\"nome\"])\n",
        "\n",
        "dicionario[\"Idade\"]=26\n",
        "print(\"Dicionario após UPDATE:\", dicionario)"
      ],
      "metadata": {
        "colab": {
          "base_uri": "https://localhost:8080/"
        },
        "id": "WvKwE5LuzKFF",
        "outputId": "0a0763b0-6f73-4be6-9f04-6d20e0332d67"
      },
      "execution_count": null,
      "outputs": [
        {
          "output_type": "stream",
          "name": "stdout",
          "text": [
            "Dicionario original: {'nome': 'Alice', 'Idade': 25, 'cidade': 'São Paulo'}\n",
            "Alice\n",
            "Dicionario após UPDATE: {'nome': 'Alice', 'Idade': 26, 'cidade': 'São Paulo'}\n"
          ]
        }
      ]
    },
    {
      "cell_type": "markdown",
      "source": [
        "#funcoes\n",
        "def saudacao(nome):\n",
        "  print(f\"O\n",
        "\n",
        "```\n",
        "# Isto` está formatado como código`\n",
        "```\n",
        "\n",
        "lá, {nome}!\")\n",
        "\n",
        "saudacao(\"Alice\")\n",
        "\n",
        "def my_print(message = \"Hello World\"):\n",
        "  return message\n",
        "\n",
        "saudacao(my_print(\"João\"))"
      ],
      "metadata": {
        "id": "n5qbVz7574W2"
      }
    },
    {
      "cell_type": "code",
      "source": [
        "#Exceções\n",
        "\n",
        "try:\n",
        "  print(0/0)\n",
        "except:\n",
        "  print(\"Divisão por zero\")\n",
        "\n",
        "  print(0 ** 0)\n",
        "  print(0 ** 0)\n",
        "  print(0 ** 0)\n",
        "  print(0 ** 0)\n",
        "\n"
      ],
      "metadata": {
        "id": "IVDp8Pct8uq8"
      },
      "execution_count": null,
      "outputs": []
    },
    {
      "cell_type": "code",
      "source": [
        "# Valores Nulos\n",
        "\n",
        "u = None\n",
        "\n",
        "print(u is None)\n",
        "\n",
        "print(u == None)# Não é correto\n"
      ],
      "metadata": {
        "colab": {
          "base_uri": "https://localhost:8080/"
        },
        "id": "gagMDw6G-WAU",
        "outputId": "82ded4c6-2de2-401c-fb5a-8a7fb94df982"
      },
      "execution_count": null,
      "outputs": [
        {
          "output_type": "stream",
          "name": "stdout",
          "text": [
            "True\n",
            "True\n"
          ]
        }
      ]
    },
    {
      "cell_type": "code",
      "source": [
        "# Classe e Objetos\n",
        "\n",
        "class Pessoa:\n",
        "  def __init__(self, nome, idade):\n",
        "    self.nome = nome\n",
        "    self.idade = idade\n",
        "\n",
        "  def apresentar(self):\n",
        "    print(f\"Olá, meu nome é {self.nome} e tenho {self.idade} anos.\")\n",
        "\n",
        "pessoa = Pessoa(\"Alice\", 25)\n",
        "print(pessoa.apresentar())"
      ],
      "metadata": {
        "colab": {
          "base_uri": "https://localhost:8080/"
        },
        "id": "zmj4N0Mn--Gj",
        "outputId": "b28930d0-5272-41e0-e751-7a83aeca690e"
      },
      "execution_count": null,
      "outputs": [
        {
          "output_type": "stream",
          "name": "stdout",
          "text": [
            "Olá, meu nome é Alice e tenho 25 anos.\n",
            "None\n"
          ]
        }
      ]
    },
    {
      "cell_type": "code",
      "source": [
        "# EXERCICIO 1 = Organização numérica\n",
        "\n",
        "lista = [1, 7, 10, 13, 22]\n",
        "print(\"Lista original\", lista)\n",
        "\n",
        "\n",
        "class Categoria:\n",
        "  def __init__(self):\n",
        "    self.lista_de_pares = []\n",
        "    self.lista_de_impares = []\n",
        "\n",
        "  def categorizar(self, lista):\n",
        "    for numero in lista:\n",
        "      if numero % 2 == 0:\n",
        "        self.lista_de_pares.append(numero)\n",
        "      else:\n",
        "        self.lista_de_impares.append(numero)\n",
        "\n",
        "categoria = Categoria()\n",
        "\n",
        "categoria.categorizar(lista)\n",
        "\n",
        "dicionario = {\"pares\": categoria.lista_de_pares, \"impares\": categoria.lista_de_impares}\n",
        "\n",
        "print(\"\\nResultados:\")\n",
        "print(\"Pares\", categoria.lista_de_pares, \"(Soma:\", sum(categoria.lista_de_pares),\")\")\n",
        "print(\"Impares\", categoria.lista_de_impares, \"(Soma:\", sum(categoria.lista_de_impares),\")\")\n",
        "\n",
        "print(\"\\nDicionário completo:\\n\", dicionario)\n"
      ],
      "metadata": {
        "colab": {
          "base_uri": "https://localhost:8080/"
        },
        "id": "dX4c5bjWBVcS",
        "outputId": "d18c43f2-f3ce-487f-cf5b-76135c1a20b2"
      },
      "execution_count": null,
      "outputs": [
        {
          "output_type": "stream",
          "name": "stdout",
          "text": [
            "Lista original [1, 7, 10, 13, 22]\n",
            "\n",
            "Resultados:\n",
            "Pares [10, 22] (Soma: 32 )\n",
            "Impares [1, 7, 13] (Soma: 21 )\n",
            "\n",
            "Dicionário completo:\n",
            " {'pares': [10, 22], '\\nimpares': [1, 7, 13]}\n"
          ]
        }
      ]
    },
    {
      "cell_type": "code",
      "source": [
        "# EXERCICIO 2 = Numeros primos\n",
        "\n",
        "import math\n",
        "\n",
        "class AnalisadorNumerico:\n",
        "    @staticmethod\n",
        "    def eh_primo(num):\n",
        "        if num < 2:\n",
        "            return False\n",
        "        if num == 2:\n",
        "            return True\n",
        "        if num % 2 == 0:\n",
        "            return False\n",
        "        for i in range(3, int(math.sqrt(num)) + 1, 2):\n",
        "            if num % i == 0:\n",
        "                return False\n",
        "        return True\n",
        "\n",
        "    def analisar(self, numeros):\n",
        "        if not all(isinstance(n, int) and n > 1 for n in numeros):\n",
        "            raise ValueError(\"A lista deve conter apenas números inteiros maiores que 1.\")\n",
        "\n",
        "        resultado = {\n",
        "            \"primos\": {\"numeros\": [], \"quantidade\": 0, \"media\": 0},\n",
        "            \"compostos\": {\"numeros\": [], \"quantidade\": 0, \"media\": 0}\n",
        "        }\n",
        "\n",
        "        for num in numeros:\n",
        "            if self.eh_primo(num):\n",
        "                resultado[\"primos\"][\"numeros\"].append(num)\n",
        "            else:\n",
        "                resultado[\"compostos\"][\"numeros\"].append(num)\n",
        "\n",
        "        for categoria in [\"primos\", \"compostos\"]:\n",
        "            lista = resultado[categoria][\"numeros\"]\n",
        "            resultado[categoria][\"quantidade\"] = len(lista)\n",
        "            resultado[categoria][\"media\"] = round(sum(lista) / len(lista), 2) if lista else 0\n",
        "\n",
        "        return resultado\n",
        "\n",
        "    @staticmethod\n",
        "    def exibir_resultados(resultado):\n",
        "        print(\"\\n Resultados:\")\n",
        "        for categoria in [\"primos\", \"compostos\"]:\n",
        "            dados = resultado[categoria]\n",
        "            print(f\"{categoria.capitalize()}: {dados['numeros']} | Quantidade: {dados['quantidade']} | Média: {dados['media']:.2f}\")\n",
        "\n",
        "# Exemplo de uso\n",
        "numeros = [2, 4, 7, 10, 13, 15, 17, 20]\n",
        "analisador = AnalisadorNumerico()\n",
        "resultado = analisador.analisar(numeros)\n",
        "analisador.exibir_resultados(resultado)\n"
      ],
      "metadata": {
        "id": "g9hRgt-BBYHw",
        "outputId": "8687bb63-4435-48dc-90a8-cad52a1b4fcb",
        "colab": {
          "base_uri": "https://localhost:8080/"
        }
      },
      "execution_count": 1,
      "outputs": [
        {
          "output_type": "stream",
          "name": "stdout",
          "text": [
            "\n",
            " Resultados:\n",
            "Primos: [2, 7, 13, 17] | Quantidade: 4 | Média: 9.75\n",
            "Compostos: [4, 10, 15, 20] | Quantidade: 4 | Média: 12.25\n"
          ]
        }
      ]
    }
  ],
  "metadata": {
    "kernelspec": {
      "display_name": "aulas_pos",
      "language": "python",
      "name": "python3"
    },
    "language_info": {
      "codemirror_mode": {
        "name": "ipython",
        "version": 3
      },
      "file_extension": ".py",
      "mimetype": "text/x-python",
      "name": "python",
      "nbconvert_exporter": "python",
      "pygments_lexer": "ipython3",
      "version": "3.11.8"
    },
    "colab": {
      "provenance": []
    }
  },
  "nbformat": 4,
  "nbformat_minor": 0
}