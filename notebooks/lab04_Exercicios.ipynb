{
  "cells": [
    {
      "cell_type": "markdown",
      "metadata": {
        "id": "Oy6YIqzaDSaF"
      },
      "source": [
        "# Análise Estatística com Boxplots, Histogramas e Z-scores\n",
        "\n",
        "Neste notebook, vamos explorar conceitos importantes de estatística descritiva através de exercícios práticos. Você trabalhará com:\n",
        "- Análise de tendência central e dispersão usando boxplots\n",
        "- Interpretação de histogramas e cálculo de z-scores\n",
        "- Uso de tabelas de distribuição normal para cálculo de probabilidades\n",
        "- Comparação entre conjuntos de dados"
      ]
    },
    {
      "cell_type": "code",
      "execution_count": null,
      "metadata": {
        "id": "2JOAjCAvDSaM"
      },
      "outputs": [],
      "source": [
        "import numpy as np\n",
        "import pandas as pd\n",
        "import matplotlib.pyplot as plt\n",
        "import seaborn as sns\n",
        "from scipy import stats\n",
        "\n",
        "# Configuração inicial\n",
        "np.random.seed(42)\n",
        "plt.style.use('seaborn')\n",
        "%matplotlib inline"
      ]
    },
    {
      "cell_type": "markdown",
      "metadata": {
        "id": "i9TUMRrWDSaO"
      },
      "source": [
        "## Exercício 1: Análise de Boxplots - Tendência Central e Dispersão\n",
        "\n",
        "\n",
        "Considere os seguintes conjuntos de dados que representam notas de alunos em três turmas diferentes:"
      ]
    },
    {
      "cell_type": "code",
      "execution_count": null,
      "metadata": {
        "id": "q4R6F3oyDSaP"
      },
      "outputs": [],
      "source": [
        "# Dados das turmas\n",
        "turma_A = np.random.normal(7.5, 1.2, 50)\n",
        "turma_B = np.random.normal(6.8, 1.5, 50)\n",
        "turma_C = np.random.normal(8.0, 0.8, 50)\n",
        "\n",
        "# Crie um dataframe com as turmas\n",
        "\n",
        "\n",
        "# Plot um boxplot\n"
      ]
    },
    {
      "cell_type": "markdown",
      "metadata": {
        "id": "cU0rR42PDSaQ"
      },
      "source": [
        "**Perguntas**:\n",
        "1. Qual turma apresenta a maior mediana de notas? E a menor?\n",
        "2. Qual turma tem a maior dispersão nas notas? Justifique observando o boxplot.\n",
        "3. Há presença de outliers em alguma turma? Se sim, em qual(is)?\n",
        "4. Com base no boxplot, qual turma você diria que tem o desempenho mais homogêneo?"
      ]
    },
    {
      "cell_type": "markdown",
      "metadata": {
        "id": "xNsFYpibDSaQ"
      },
      "source": [
        "## Exercício 2: Análise de Histograma e Cálculo de Z-score\n",
        "\n",
        "\n",
        "Considere a distribuição de alturas de uma população adulta (em cm):"
      ]
    },
    {
      "cell_type": "code",
      "execution_count": null,
      "metadata": {
        "id": "qLUA941eDSaR"
      },
      "outputs": [],
      "source": [
        "# Dados de altura\n",
        "alturas = np.random.normal(170, 8, 1000)\n",
        "\n",
        "# Plot o histograma\n",
        "\n",
        "\n",
        "# Complete o código para mostrar as Estatísticas descritivas\n",
        "\n",
        "print(f\"Média: {media:.2f} cm\")\n",
        "print(f\"Desvio padrão: {desvio_padrao:.2f} cm\")"
      ]
    },
    {
      "cell_type": "markdown",
      "metadata": {
        "id": "T0lUtwrqDSaS"
      },
      "source": [
        "**Perguntas**:\n",
        "1. Qual é o z-score para uma altura de 185 cm?\n",
        "2. Qual a probabilidade de uma pessoa ter altura menor que 160 cm? (Use a tabela Z)\n",
        "3. Qual a probabilidade de uma pessoa ter altura entre 165 cm e 175 cm?\n",
        "4. Que altura corresponde ao percentil 90? (Use a tabela Z inversa)"
      ]
    },
    {
      "cell_type": "markdown",
      "metadata": {
        "id": "7vsyualoDSaT"
      },
      "source": [
        "## Exercício 3: Comparação entre Conjuntos de Dados usando Z-scores\n",
        "\n",
        "\n",
        "Considere os seguintes dados de desempenho em duas disciplinas diferentes:"
      ]
    },
    {
      "cell_type": "code",
      "execution_count": null,
      "metadata": {
        "id": "YEIMgWYIDSaT"
      },
      "outputs": [],
      "source": [
        "# Dados das disciplinas\n",
        "matematica = np.random.normal(6.5, 1.8, 200)\n",
        "portugues = np.random.normal(7.2, 1.2, 200)\n",
        "\n",
        "# Crie um dataframe\n",
        "\n",
        "\n",
        "# Mostre os valores de média e desvio padrão para as duas disciplinas\n",
        "print(\"Matemática:\")\n",
        "print(f\"Média: {}\")\n",
        "print(f\"Desvio padrão: {}\\n\")\n",
        "\n",
        "print(\"Português:\")\n",
        "print(f\"Média: {}\")\n",
        "print(f\"Desvio padrão: {}}\")"
      ]
    },
    {
      "cell_type": "markdown",
      "metadata": {
        "id": "-mvh6ClvDSaU"
      },
      "source": [
        "**Perguntas**:\n",
        "1. Um aluno tirou 8.5 em Matemática e 7.8 em Português. Em qual disciplina ele se saiu melhor em relação à turma?\n",
        "2. Qual nota em Português seria equivalente a uma nota de 5.0 em Matemática (em termos de posição relativa)?\n",
        "3. Se um aluno está no percentil 75 em Matemática, qual seria a nota equivalente em Português?\n",
        "4. Em qual disciplina há maior variabilidade relativa no desempenho dos alunos?"
      ]
    },
    {
      "cell_type": "markdown",
      "metadata": {
        "id": "ooWm1-N_DSaU"
      },
      "source": [
        "## Exercício 4: Integração de Conceitos - Boxplot, Histograma e Probabilidade\n",
        "\n",
        "\n",
        "Considere os dados de tempo de entrega (em minutos) de dois restaurantes:"
      ]
    },
    {
      "cell_type": "code",
      "execution_count": null,
      "metadata": {
        "id": "F7P05GYJDSaU"
      },
      "outputs": [],
      "source": [
        "# Dados dos restaurantes\n",
        "restaurante_X = np.random.normal(30, 5, 500)\n",
        "restaurante_Y = np.random.normal(35, 7, 500)\n",
        "\n",
        "# Cire um Boxplot comparativo entre os restaurantes\n",
        "\n",
        "\n",
        "# Histograma superposto\n",
        "plt.figure(figsize=(10, 6))\n",
        "sns.histplot(restaurante_X, kde=True, color='blue', label='Restaurante X', alpha=0.5)\n",
        "sns.histplot(restaurante_Y, kde=True, color='red', label='Restaurante Y', alpha=0.5)\n",
        "plt.title('Distribuição de Tempos de Entrega')\n",
        "plt.xlabel('Minutos')\n",
        "plt.legend()\n",
        "plt.show()"
      ]
    },
    {
      "cell_type": "markdown",
      "metadata": {
        "id": "5X1LVKGPDSaV"
      },
      "source": [
        "**Perguntas**:\n",
        "1. Qual restaurante tem o tempo médio de entrega menor? E qual tem maior variabilidade?\n",
        "2. Calcule a probabilidade de cada restaurante entregar em menos de 25 minutos.\n",
        "3. Se um cliente quer ter 95% de chance de receber seu pedido em até X minutos, qual seria X para cada restaurante?\n",
        "4. Um tempo de 40 minutos seria considerado atípico para algum dos restaurantes? Justifique usando z-scores."
      ]
    }
  ],
  "metadata": {
    "kernelspec": {
      "display_name": "Python 3",
      "language": "python",
      "name": "python3"
    },
    "language_info": {
      "codemirror_mode": {
        "name": "ipython",
        "version": 3
      },
      "file_extension": ".py",
      "mimetype": "text/x-python",
      "name": "python",
      "nbconvert_exporter": "python",
      "pygments_lexer": "ipython3",
      "version": "3.8.5"
    },
    "colab": {
      "provenance": []
    }
  },
  "nbformat": 4,
  "nbformat_minor": 0
}
