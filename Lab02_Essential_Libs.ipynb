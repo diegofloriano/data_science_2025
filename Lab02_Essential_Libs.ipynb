{
  "cells": [
    {
      "cell_type": "markdown",
      "metadata": {
        "id": "view-in-github",
        "colab_type": "text"
      },
      "source": [
        "<a href=\"https://colab.research.google.com/github/diegofloriano/data_science_2025/blob/main/Lab02_Essential_Libs.ipynb\" target=\"_parent\"><img src=\"https://colab.research.google.com/assets/colab-badge.svg\" alt=\"Open In Colab\"/></a>"
      ]
    },
    {
      "cell_type": "markdown",
      "metadata": {
        "id": "iJPDI4JsBSNi"
      },
      "source": [
        "# A Importância do NumPy na Ciência de Dados e Computação Científica\n",
        "\n",
        "NumPy (Numerical Python) é uma biblioteca fundamental para computação científica em Python. Ele fornece:\n",
        "- Objetos de array multidimensionais de alto desempenho\n",
        "- Ferramentas para trabalhar com esses arrays\n",
        "- Funções matemáticas otimizadas\n",
        "\n",
        "Vamos explorar por que o NumPy é tão importante e mostrar alguns exemplos práticos."
      ]
    },
    {
      "cell_type": "markdown",
      "metadata": {
        "id": "GiJQIMEmBSNj"
      },
      "source": [
        "## Por que o NumPy é importante?\n",
        "\n",
        "1. **Desempenho**: Operações vetorizadas são muito mais rápidas que loops em Python puro\n",
        "2. **Eficiência de memória**: Arrays NumPy ocupam menos espaço que listas Python\n",
        "3. **Funcionalidades avançadas**: Álgebra linear, transformadas de Fourier, geração de números aleatórios\n",
        "4. **Base para outras bibliotecas**: Pandas, SciPy, scikit-learn e matplotlib são construídos sobre NumPy\n",
        "5. **Interface unificada**: Sintaxe consistente para operações com arrays"
      ]
    },
    {
      "cell_type": "code",
      "execution_count": null,
      "metadata": {
        "id": "zKms84Q8BSNk"
      },
      "outputs": [],
      "source": [
        "# Operações matemáticas\n",
        "\n",
        "\n"
      ]
    },
    {
      "cell_type": "markdown",
      "metadata": {
        "id": "dERYelajBSNl"
      },
      "source": [
        "# Exercícios com NumPy - Operações Simples com Vetores e Matrizes"
      ]
    },
    {
      "cell_type": "markdown",
      "metadata": {
        "id": "sKwsMjrKBSNl"
      },
      "source": [
        "## Exercício 1: Cálculo de Média Ponderada\n",
        "\n",
        "Você é professor de uma disciplina e precisa calcular a nota final dos alunos usando um sistema de pesos diferentes para cada avaliação.\n",
        "\n",
        "Dados:\n",
        "- Notas de um aluno: `[7.5, 8.0, 6.5, 9.0]` (quatro avaliações)\n",
        "- Pesos respectivos: `[0.2, 0.3, 0.2, 0.3]`\n",
        "\n",
        "**Sua tarefa:**\n",
        "1. Crie dois arrays NumPy com os dados fornecidos\n",
        "2. Calcule a média ponderada usando operações vetorizadas\n",
        "3. Arredonde o resultado para 1 casa decimal\n",
        "4. Exiba o resultado final\n",
        "\n",
        "**Dica:**  \n",
        "Lembre-se que média ponderada = Σ(nota × peso) / Σ(pesos)"
      ]
    },
    {
      "cell_type": "markdown",
      "metadata": {
        "id": "zXgm6D-EBSNl"
      },
      "source": [
        "## Exercício 2: Conversão de Temperaturas\n",
        "\n",
        "Você está trabalhando com dados meteorológicos e precisa converter uma série de temperaturas de Celsius para Fahrenheit.\n",
        "\n",
        "Dados:\n",
        "- Temperaturas em Celsius: `[0, 10, 20, 30, 40]`\n",
        "\n",
        "**Sua tarefa:**\n",
        "1. Crie um array NumPy com as temperaturas em Celsius\n",
        "2. Aplique a fórmula de conversão:  \n",
        "   `Fahrenheit = (Celsius × 9/5) + 32`\n",
        "3. Crie um novo array com as temperaturas convertidas\n",
        "4. Exiba ambos os arrays (Celsius e Fahrenheit) para comparação\n",
        "\n",
        "**Dica:**  \n",
        "NumPy permite aplicar operações matemáticas a arrays inteiros sem necessidade de loops."
      ]
    },
    {
      "cell_type": "markdown",
      "metadata": {
        "id": "Ul95m3Y5BSNm"
      },
      "source": [
        "# Exercício 3: Sistema de Pontuação de Atividades Físicas\n",
        "\n",
        "Você está desenvolvendo um sistema de acompanhamento de atividades físicas que registra:\n",
        "- Quantidade de minutos de exercício por dia\n",
        "- Pontos conquistados (cada minuto = 1 ponto)\n",
        "- Bônus diário (5 pontos para dias com >30 minutos)\n",
        "\n",
        "Dados da última semana:\n",
        "\n",
        "Segunda: 25 min\n",
        "Terça: 40 min\n",
        "Quarta: 30 min\n",
        "Quinta: 55 min\n",
        "Sexta: 20 min\n",
        "Sábado: 60 min\n",
        "Domingo: 45 min\n",
        "\n",
        "1. Crie uma matriz NumPy 7x3 (dias × dados) contendo:\n",
        "   - Coluna 1: minutos de exercício\n",
        "   - Coluna 2: pontos base (1 por minuto)\n",
        "   - Coluna 3: bônus (5 pontos se minutos >30)\n",
        "\n",
        "2. Calcule:\n",
        "   - Total de minutos na semana\n",
        "   - Total de pontos (base + bônus)\n",
        "   - Dia com maior atividade física"
      ]
    }
  ],
  "metadata": {
    "kernelspec": {
      "display_name": "base",
      "language": "python",
      "name": "python3"
    },
    "language_info": {
      "codemirror_mode": {
        "name": "ipython",
        "version": 3
      },
      "file_extension": ".py",
      "mimetype": "text/x-python",
      "name": "python",
      "nbconvert_exporter": "python",
      "pygments_lexer": "ipython3",
      "version": "3.11.7"
    },
    "colab": {
      "provenance": [],
      "include_colab_link": true
    }
  },
  "nbformat": 4,
  "nbformat_minor": 0
}